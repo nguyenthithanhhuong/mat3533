{
 "cells": [
  {
   "cell_type": "markdown",
   "metadata": {},
   "source": [
    "Khai báo các thư viện cần thiết"
   ]
  },
  {
   "cell_type": "code",
   "execution_count": 1,
   "metadata": {},
   "outputs": [],
   "source": [
    "import numpy as np\n",
    "import sklearn\n",
    "from sklearn.model_selection import train_test_split\n",
    "from sklearn.linear_model import LogisticRegression\n",
    "from sklearn.datasets import fetch_20newsgroups_vectorized\n",
    "from sklearn.metrics import accuracy_score, confusion_matrix"
   ]
  },
  {
   "cell_type": "markdown",
   "metadata": {},
   "source": [
    "Lấy dữ liệu và phân chia dữ liệu theo tỉ lệ train:test = 9:1"
   ]
  },
  {
   "cell_type": "code",
   "execution_count": 3,
   "metadata": {},
   "outputs": [],
   "source": [
    "n_samples = 20000\n",
    "X, y = fetch_20newsgroups_vectorized(subset='all', return_X_y=True)\n",
    "X = X[:n_samples]\n",
    "y = y[:n_samples]\n",
    "X_train, X_test, y_train, y_test = train_test_split(X, y, random_state=42,\n",
    "stratify=y, test_size=0.1)\n",
    "train_samples, n_features = X_train.shape\n",
    "n_classes = np.unique(y).shape[0]"
   ]
  },
  {
   "cell_type": "markdown",
   "metadata": {},
   "source": [
    "Sử dụng mô hình hồi quy Logistic nhiều lớp để dự đoán cho mẫu dữ liệu"
   ]
  },
  {
   "cell_type": "code",
   "execution_count": 4,
   "metadata": {},
   "outputs": [
    {
     "name": "stdout",
     "output_type": "stream",
     "text": [
      "[ 8 15  6 ...  5  5 14]\n"
     ]
    }
   ],
   "source": [
    "logistic_model = LogisticRegression(multi_class='multinomial',solver='sag', max_iter=5000)\n",
    "logistic_model.fit(X_train, y_train)\n",
    "y_predict = logistic_model.predict(X_test)\n",
    "print(y_predict)"
   ]
  },
  {
   "cell_type": "markdown",
   "metadata": {},
   "source": [
    "In độ chính xác"
   ]
  },
  {
   "cell_type": "code",
   "execution_count": 5,
   "metadata": {},
   "outputs": [
    {
     "data": {
      "text/plain": [
       "0.823342175066313"
      ]
     },
     "execution_count": 5,
     "metadata": {},
     "output_type": "execute_result"
    }
   ],
   "source": [
    "accuracy_score(y_test, y_predict)"
   ]
  },
  {
   "cell_type": "markdown",
   "metadata": {},
   "source": [
    "In ma trận Confusion"
   ]
  },
  {
   "cell_type": "code",
   "execution_count": 6,
   "metadata": {},
   "outputs": [
    {
     "data": {
      "text/plain": [
       "array([[68,  0,  0,  0,  0,  0,  0,  0,  0,  1,  0,  1,  0,  1,  0,  4,\n",
       "         0,  2,  0,  3],\n",
       "       [ 0, 79,  3,  1,  0,  5,  2,  0,  0,  0,  0,  1,  1,  1,  1,  1,\n",
       "         0,  1,  0,  1],\n",
       "       [ 0,  5, 78,  6,  1,  4,  2,  0,  1,  0,  0,  0,  1,  0,  1,  0,\n",
       "         0,  0,  0,  0],\n",
       "       [ 0,  4,  8, 67,  4,  1,  4,  1,  1,  0,  0,  1,  3,  2,  0,  0,\n",
       "         0,  1,  1,  0],\n",
       "       [ 0,  3,  2,  8, 74,  1,  2,  0,  0,  0,  0,  0,  3,  0,  0,  1,\n",
       "         1,  1,  0,  0],\n",
       "       [ 0,  4,  7,  3,  1, 81,  0,  1,  1,  1,  0,  0,  0,  0,  0,  0,\n",
       "         0,  0,  0,  0],\n",
       "       [ 0,  0,  0,  2,  2,  2, 82,  4,  0,  1,  1,  1,  1,  1,  0,  1,\n",
       "         0,  0,  0,  0],\n",
       "       [ 0,  1,  0,  0,  0,  0,  2, 92,  0,  0,  0,  0,  1,  2,  1,  0,\n",
       "         0,  0,  0,  0],\n",
       "       [ 0,  0,  0,  0,  1,  0,  3,  6, 86,  1,  0,  0,  0,  1,  1,  0,\n",
       "         0,  0,  1,  0],\n",
       "       [ 0,  1,  0,  1,  0,  1,  2,  0,  0, 87,  4,  0,  0,  3,  0,  0,\n",
       "         0,  0,  0,  0],\n",
       "       [ 0,  0,  0,  0,  0,  0,  4,  0,  0,  3, 92,  0,  0,  0,  0,  0,\n",
       "         0,  0,  1,  0],\n",
       "       [ 0,  2,  0,  1,  1,  4,  2,  0,  1,  2,  1, 82,  0,  0,  0,  0,\n",
       "         2,  1,  0,  0],\n",
       "       [ 0,  4,  0,  1,  1,  1,  2,  4,  0,  0,  0,  0, 84,  0,  1,  0,\n",
       "         0,  0,  0,  0],\n",
       "       [ 0,  1,  0,  0,  0,  0,  3,  3,  2,  1,  0,  1,  1, 80,  3,  1,\n",
       "         0,  2,  1,  0],\n",
       "       [ 1,  1,  0,  0,  1,  2,  2,  0,  0,  0,  0,  0,  0,  3, 88,  1,\n",
       "         0,  0,  0,  0],\n",
       "       [ 2,  3,  0,  0,  1,  3,  0,  0,  0,  0,  1,  0,  1,  0,  0, 87,\n",
       "         0,  1,  0,  1],\n",
       "       [ 0,  0,  0,  0,  1,  1,  0,  0,  0,  1,  0,  1,  3,  1,  1,  0,\n",
       "        80,  1,  1,  0],\n",
       "       [ 0,  0,  0,  0,  0,  2,  0,  0,  1,  2,  0,  1,  1,  1,  1,  1,\n",
       "         0, 82,  2,  0],\n",
       "       [ 1,  0,  0,  0,  0,  0,  1,  0,  1,  2,  1,  0,  1,  1,  1,  1,\n",
       "        11,  1, 55,  0],\n",
       "       [ 7,  0,  0,  0,  0,  0,  0,  0,  0,  0,  0,  2,  1,  5,  1, 14,\n",
       "         3,  1,  1, 28]], dtype=int64)"
      ]
     },
     "execution_count": 6,
     "metadata": {},
     "output_type": "execute_result"
    }
   ],
   "source": [
    "confusion_matrix(y_test, y_predict)"
   ]
  }
 ],
 "metadata": {
  "kernelspec": {
   "display_name": "Python 3.11.4 ('base')",
   "language": "python",
   "name": "python3"
  },
  "language_info": {
   "codemirror_mode": {
    "name": "ipython",
    "version": 3
   },
   "file_extension": ".py",
   "mimetype": "text/x-python",
   "name": "python",
   "nbconvert_exporter": "python",
   "pygments_lexer": "ipython3",
   "version": "3.11.4"
  },
  "orig_nbformat": 4,
  "vscode": {
   "interpreter": {
    "hash": "2043299c89c8cd0b4d1a6f5cf4529bd58e6a4e0fe3181a25e0d328c821cdc5c5"
   }
  }
 },
 "nbformat": 4,
 "nbformat_minor": 2
}
