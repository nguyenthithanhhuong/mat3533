{
 "cells": [
  {
   "cell_type": "markdown",
   "metadata": {},
   "source": [
    "Import các thư viện cần thiết"
   ]
  },
  {
   "cell_type": "code",
   "execution_count": 1,
   "metadata": {},
   "outputs": [],
   "source": [
    "import os\n",
    "import numpy as np\n",
    "import sklearn\n",
    "import time\n",
    "from sklearn.decomposition import PCA\n",
    "from sklearn.naive_bayes import GaussianNB\n",
    "from sklearn.model_selection import train_test_split\n",
    "from sklearn.metrics import accuracy_score, confusion_matrix"
   ]
  },
  {
   "cell_type": "markdown",
   "metadata": {},
   "source": [
    "Khai báo đường dẫn file dữ liệu"
   ]
  },
  {
   "cell_type": "code",
   "execution_count": 2,
   "metadata": {},
   "outputs": [],
   "source": [
    "# set names to the paths because they're too long\n",
    "data_path = 'D:/Code/python/mat3533/practice04/data/'\n",
    "# train path\n",
    "train_images_path = os.path.join(data_path, 'train-images-idx3-ubyte.gz')\n",
    "train_labels_path = os.path.join(data_path, 'train-labels-idx1-ubyte.gz')\n",
    "# test path\n",
    "test_images_path = os.path.join(data_path, 't10k-images-idx3-ubyte.gz')\n",
    "test_labels_path = os.path.join(data_path, 't10k-labels-idx1-ubyte.gz')"
   ]
  },
  {
   "cell_type": "markdown",
   "metadata": {},
   "source": [
    "Xây dựng phương thức đọc dữ liệu từ tệp gzip, giải nén và đưa về định dạng là một dãy ảnh (một dãy ma trận\n",
    "nguyên)"
   ]
  },
  {
   "cell_type": "code",
   "execution_count": 3,
   "metadata": {},
   "outputs": [],
   "source": [
    "def get_mnist_data(images_path, labels_path, num_images, shuffle=False, _is=True, image_size=28):\n",
    "    \"\"\"\n",
    "    This shuffle param is active when .gz is downloaded at:\n",
    "    - 'http://yann.lecun.com/exdb/mnist/'\n",
    "    - This function return random num_images in 60000 or 10000\n",
    "    \"\"\"\n",
    "    # read data\n",
    "    import gzip # to decompress gz (zip) file\n",
    "    # open file training to read training data\n",
    "    f_images = gzip.open(images_path,'r')\n",
    "    # skip 16 first bytes because these are not data, only header infor\n",
    "    f_images.read(16)\n",
    "    # general: read num_images data samples if this parameter is set;\n",
    "    # if not, read all (60000 training or 10000 test)\n",
    "    real_num = num_images if not shuffle else (60000 if _is else 10000)\n",
    "    # read all data to buf_images (28x28xreal_num)\n",
    "    buf_images = f_images.read(image_size * image_size * real_num)\n",
    "    # images\n",
    "    images = np.frombuffer(buf_images, dtype=np.uint8).astype(np.float32)\n",
    "    images = images.reshape(real_num, image_size, image_size,)\n",
    "    # Read labels\n",
    "    f_labels = gzip.open(labels_path,'r')\n",
    "    f_labels.read(8)\n",
    "    labels = np.zeros((real_num)).astype(np.int64)\n",
    "    # rearrange to correspond the images and labels\n",
    "    for i in range(0, real_num):\n",
    "        buf_labels = f_labels.read(1)\n",
    "        labels[i] = np.frombuffer(buf_labels, dtype=np.uint8).astype(np.int64)\n",
    "\n",
    "    # shuffle to get random images data\n",
    "    if shuffle is True:\n",
    "        rand_id = np.random.randint(real_num, size=num_images)\n",
    "        images = images[rand_id, :]\n",
    "        labels = labels[rand_id,]\n",
    "    # change images data to type of vector 28x28 dimentional\n",
    "    images = images.reshape(num_images, image_size * image_size)\n",
    "    return images, labels"
   ]
  },
  {
   "cell_type": "markdown",
   "metadata": {},
   "source": [
    "Lấy 5000 ảnh và kiểm tra dữ liệu"
   ]
  },
  {
   "cell_type": "code",
   "execution_count": 6,
   "metadata": {},
   "outputs": [
    {
     "name": "stdout",
     "output_type": "stream",
     "text": [
      "(5000, 784) (5000,)\n",
      "(10000, 784) (10000,)\n"
     ]
    }
   ],
   "source": [
    "train_images, train_labels = get_mnist_data(\n",
    "    train_images_path, train_labels_path, 5000, shuffle=True)\n",
    "test_images, test_labels = get_mnist_data(\n",
    "    test_images_path, test_labels_path, 10000, _is=False, shuffle=True)\n",
    "print(train_images.shape, train_labels.shape)\n",
    "print(test_images.shape, test_labels.shape)"
   ]
  },
  {
   "cell_type": "markdown",
   "metadata": {},
   "source": [
    "Đưa dữ liệu về 2 chiều và thực hiện mô hình Naive Bayes"
   ]
  },
  {
   "cell_type": "code",
   "execution_count": 7,
   "metadata": {},
   "outputs": [
    {
     "name": "stdout",
     "output_type": "stream",
     "text": [
      "Prediction:  [2 3 7 ... 4 0 7]\n",
      "Accuracy:  0.41533333333333333\n",
      "Time:  0.007994651794433594\n"
     ]
    }
   ],
   "source": [
    "pca = PCA(n_components=2)\n",
    "train_images_2d = pca.fit_transform(train_images)\n",
    "\n",
    "X_train, X_test, y_train, y_test = train_test_split(train_images_2d, train_labels, test_size=0.3, random_state=42)\n",
    "\n",
    "start_time = time.time()\n",
    "\n",
    "model_pca_002_nb = GaussianNB()\n",
    "model_pca_002_nb.fit(X_train, y_train)\n",
    "\n",
    "y_pred_pca_nb = model_pca_002_nb.predict(X_test)\n",
    "print(\"Prediction: \", y_pred_pca_nb)\n",
    "\n",
    "accuracy_pca_nb = accuracy_score(y_test, y_pred_pca_nb)\n",
    "print(\"Accuracy: \", accuracy_pca_nb)\n",
    "\n",
    "train_time = time.time() - start_time\n",
    "\n",
    "print(\"Time: \", train_time)"
   ]
  },
  {
   "cell_type": "markdown",
   "metadata": {},
   "source": [
    "Sử dụng dữ liệu nguyên bản, chạy mô hình Naive Bayes"
   ]
  },
  {
   "cell_type": "code",
   "execution_count": 8,
   "metadata": {},
   "outputs": [
    {
     "name": "stdout",
     "output_type": "stream",
     "text": [
      "Prediction:  [8 6 1 ... 8 0 9]\n",
      "Accuracy:  0.5866666666666667\n",
      "Time:  0.12240767478942871\n"
     ]
    }
   ],
   "source": [
    "X_train_full, X_test_full, y_train_full, y_test_full = train_test_split(train_images, train_labels, test_size=0.3, random_state=42)\n",
    "\n",
    "start_time = time.time()\n",
    "\n",
    "model_full_nb = GaussianNB()\n",
    "model_full_nb.fit(X_train_full, y_train_full)\n",
    "\n",
    "y_pred_full_nb = model_full_nb.predict(X_test_full)\n",
    "print(\"Prediction: \", y_pred_full_nb)\n",
    "\n",
    "accuracy_full_nb = accuracy_score(y_test_full, y_pred_full_nb)\n",
    "print(\"Accuracy: \", accuracy_full_nb)\n",
    "\n",
    "train_time_full = time.time() - start_time\n",
    "\n",
    "print(\"Time: \", train_time_full)"
   ]
  },
  {
   "cell_type": "markdown",
   "metadata": {},
   "source": [
    "Sử dungjtaajp dữ liệu 500 ảnh, đưa về 100 chiều và thực hiện mô hình Naive Bayes"
   ]
  },
  {
   "cell_type": "code",
   "execution_count": 9,
   "metadata": {},
   "outputs": [
    {
     "name": "stdout",
     "output_type": "stream",
     "text": [
      "Prediction:  [8 6 9 ... 4 0 9]\n",
      "Accuracy:  0.8573333333333333\n",
      "Time:  0.02588963508605957\n"
     ]
    }
   ],
   "source": [
    "pca_100 = PCA(n_components=100)\n",
    "train_images_100d = pca_100.fit_transform(train_images)\n",
    "\n",
    "X_train_pca, X_test_pca, y_train_pca, y_test_pca = train_test_split(train_images_100d, train_labels, test_size=0.3, random_state=42)\n",
    "\n",
    "start_time = time.time()\n",
    "\n",
    "model_pca_100_nb = GaussianNB()\n",
    "model_pca_100_nb.fit(X_train_pca, y_train_pca)\n",
    "\n",
    "y_pred_pca_nb = model_pca_100_nb.predict(X_test_pca)\n",
    "print(\"Prediction: \", y_pred_pca_nb)\n",
    "\n",
    "accuracy_pca_nb = accuracy_score(y_test_pca, y_pred_pca_nb)\n",
    "print(\"Accuracy: \", accuracy_pca_nb)\n",
    "\n",
    "train_time = time.time() - start_time\n",
    "\n",
    "print(\"Time: \", train_time)"
   ]
  }
 ],
 "metadata": {
  "kernelspec": {
   "display_name": "Python 3.11.4 ('base')",
   "language": "python",
   "name": "python3"
  },
  "language_info": {
   "codemirror_mode": {
    "name": "ipython",
    "version": 3
   },
   "file_extension": ".py",
   "mimetype": "text/x-python",
   "name": "python",
   "nbconvert_exporter": "python",
   "pygments_lexer": "ipython3",
   "version": "3.11.4"
  },
  "orig_nbformat": 4,
  "vscode": {
   "interpreter": {
    "hash": "2043299c89c8cd0b4d1a6f5cf4529bd58e6a4e0fe3181a25e0d328c821cdc5c5"
   }
  }
 },
 "nbformat": 4,
 "nbformat_minor": 2
}
