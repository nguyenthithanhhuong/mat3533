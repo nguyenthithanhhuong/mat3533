{
  "cells": [
    {
      "cell_type": "code",
      "execution_count": 1,
      "metadata": {
        "id": "Ll-ZtE2h-BTz"
      },
      "outputs": [],
      "source": [
        "# packages\n",
        "from __future__ import division, print_function, unicode_literals\n",
        "import numpy as np\n",
        "import pandas as pd"
      ]
    },
    {
      "cell_type": "code",
      "execution_count": 3,
      "metadata": {
        "colab": {
          "base_uri": "https://localhost:8080/"
        },
        "id": "HGPTqmwbAkyf",
        "outputId": "b7ae6e0d-7c1b-4cea-f3a2-7e13ffab86da"
      },
      "outputs": [
        {
          "name": "stdout",
          "output_type": "stream",
          "text": [
            "          0   1   2   3   4   5   6   7   8   9   10\n",
            "0    1000025   2   5   1   1   1   2   1   3   1   1\n",
            "1    1002945   2   5   4   4   5   7  10   3   2   1\n",
            "2    1015425   2   3   1   1   1   2   2   3   1   1\n",
            "3    1016277   2   6   8   8   1   3   4   3   7   1\n",
            "4    1017023   2   4   1   1   3   2   1   3   1   1\n",
            "..       ...  ..  ..  ..  ..  ..  ..  ..  ..  ..  ..\n",
            "694   776715   2   3   1   1   1   3   2   1   1   1\n",
            "695   841769   2   2   1   1   1   2   1   1   1   1\n",
            "696   888820   4   5  10  10   3   7   3   8  10   2\n",
            "697   897471   4   4   8   6   4   3   4  10   6   1\n",
            "698   897471   4   4   8   8   5   4   5  10   4   1\n",
            "\n",
            "[699 rows x 11 columns]\n"
          ]
        }
      ],
      "source": [
        "data = open(\"D:\\Code\\python\\mat3533\\practice01/datacum.txt\",  'r')\n",
        "data = data.readlines()\n",
        "data = [x.split() for x in data if not x.startswith(\"#####\")]\n",
        "data = [x[0].split(\",\") for x in data if not len(x) == 0]\n",
        "data = np.array(data).astype(int)\n",
        "data_df = pd.DataFrame(data)\n",
        "print(data_df)"
      ]
    },
    {
      "cell_type": "code",
      "execution_count": 17,
      "metadata": {
        "colab": {
          "base_uri": "https://localhost:8080/"
        },
        "id": "aEMprLWqCvav",
        "outputId": "671fd2e3-1b59-41fe-ddf5-ed2b132000e0"
      },
      "outputs": [
        {
          "name": "stdout",
          "output_type": "stream",
          "text": [
            "         0   1   2   3   4   5   6   7   8   9   10\n",
            "0   1000025   2   5   1   1   1   2   1   3   1   1\n",
            "1   1002945   2   5   4   4   5   7  10   3   2   1\n",
            "2   1015425   2   3   1   1   1   2   2   3   1   1\n",
            "3   1016277   2   6   8   8   1   3   4   3   7   1\n",
            "4   1017023   2   4   1   1   3   2   1   3   1   1\n",
            "..      ...  ..  ..  ..  ..  ..  ..  ..  ..  ..  ..\n",
            "71  1123061   4   6  10   2   8  10   2   7   8  10\n",
            "73  1125035   4   9   4   5  10   6  10   4   8   1\n",
            "74  1126417   4  10   6   4   1   3   4   3   2   3\n",
            "84  1147699   4   3   5   7   8   8   9   7  10   7\n",
            "85  1147748   4   5  10   6   1  10   4   4  10  10\n",
            "\n",
            "[120 rows x 11 columns]\n",
            "          0   1   2   3   4   5   6   7   8   9   10\n",
            "143  1184184   2   1   1   1   1   2   5   1   1   1\n",
            "144  1184241   2   2   1   1   1   2   1   2   1   1\n",
            "145  1184840   2   1   1   3   1   2   0   2   1   1\n",
            "147  1185610   2   1   1   1   1   3   2   2   1   1\n",
            "148  1187457   2   3   1   1   3   8   1   5   8   1\n",
            "..       ...  ..  ..  ..  ..  ..  ..  ..  ..  ..  ..\n",
            "681  1371026   4   5  10  10  10   4  10   5   6   3\n",
            "691   695091   4   5  10  10   5   4   5   4   4   1\n",
            "696   888820   4   5  10  10   3   7   3   8  10   2\n",
            "697   897471   4   4   8   6   4   3   4  10   6   1\n",
            "698   897471   4   4   8   8   5   4   5  10   4   1\n",
            "\n",
            "[579 rows x 11 columns]\n"
          ]
        }
      ],
      "source": [
        "B_df = data_df.loc[data_df[1] == 2]\n",
        "B_test_df = B_df[:80]\n",
        "B_train_df = B_df[80:]\n",
        "\n",
        "M_df = data_df.loc[data_df[1] == 4]\n",
        "M_test_df = M_df[:40]\n",
        "M_train_df = M_df[40:]\n",
        "\n",
        "train_df = pd.concat([B_train_df, M_train_df])\n",
        "test_df = pd.concat([B_test_df, M_test_df])\n",
        "print(test_df)\n",
        "print(train_df)"
      ]
    },
    {
      "cell_type": "code",
      "execution_count": 15,
      "metadata": {
        "id": "x0QzgQt9fbnm"
      },
      "outputs": [],
      "source": [
        "train_label = data_df[1]\n",
        "train_data = data_df.drop(0, axis = 1)\n",
        "train_data = train_data.drop(1, axis = 1)"
      ]
    },
    {
      "cell_type": "code",
      "execution_count": 16,
      "metadata": {
        "id": "wt3TYFFYE80Q"
      },
      "outputs": [],
      "source": [
        "test_id = test_df[0]\n",
        "test_result = test_df[1]\n",
        "test_result = np.array(test_result)\n",
        "test_df = test_df.drop(0, axis=1)\n",
        "test_df = test_df.drop(1, axis=1)"
      ]
    },
    {
      "cell_type": "code",
      "execution_count": 7,
      "metadata": {
        "id": "8kXmaOUIeFpm"
      },
      "outputs": [],
      "source": [
        "from sklearn.naive_bayes import GaussianNB\n",
        "\n",
        "model_sk = GaussianNB()"
      ]
    },
    {
      "cell_type": "code",
      "execution_count": 8,
      "metadata": {
        "colab": {
          "base_uri": "https://localhost:8080/"
        },
        "id": "ZyxuQUtaji7c",
        "outputId": "fc2802fc-def4-401b-80c1-3dd27818de47"
      },
      "outputs": [
        {
          "data": {
            "text/html": [
              "<style>#sk-container-id-1 {color: black;}#sk-container-id-1 pre{padding: 0;}#sk-container-id-1 div.sk-toggleable {background-color: white;}#sk-container-id-1 label.sk-toggleable__label {cursor: pointer;display: block;width: 100%;margin-bottom: 0;padding: 0.3em;box-sizing: border-box;text-align: center;}#sk-container-id-1 label.sk-toggleable__label-arrow:before {content: \"▸\";float: left;margin-right: 0.25em;color: #696969;}#sk-container-id-1 label.sk-toggleable__label-arrow:hover:before {color: black;}#sk-container-id-1 div.sk-estimator:hover label.sk-toggleable__label-arrow:before {color: black;}#sk-container-id-1 div.sk-toggleable__content {max-height: 0;max-width: 0;overflow: hidden;text-align: left;background-color: #f0f8ff;}#sk-container-id-1 div.sk-toggleable__content pre {margin: 0.2em;color: black;border-radius: 0.25em;background-color: #f0f8ff;}#sk-container-id-1 input.sk-toggleable__control:checked~div.sk-toggleable__content {max-height: 200px;max-width: 100%;overflow: auto;}#sk-container-id-1 input.sk-toggleable__control:checked~label.sk-toggleable__label-arrow:before {content: \"▾\";}#sk-container-id-1 div.sk-estimator input.sk-toggleable__control:checked~label.sk-toggleable__label {background-color: #d4ebff;}#sk-container-id-1 div.sk-label input.sk-toggleable__control:checked~label.sk-toggleable__label {background-color: #d4ebff;}#sk-container-id-1 input.sk-hidden--visually {border: 0;clip: rect(1px 1px 1px 1px);clip: rect(1px, 1px, 1px, 1px);height: 1px;margin: -1px;overflow: hidden;padding: 0;position: absolute;width: 1px;}#sk-container-id-1 div.sk-estimator {font-family: monospace;background-color: #f0f8ff;border: 1px dotted black;border-radius: 0.25em;box-sizing: border-box;margin-bottom: 0.5em;}#sk-container-id-1 div.sk-estimator:hover {background-color: #d4ebff;}#sk-container-id-1 div.sk-parallel-item::after {content: \"\";width: 100%;border-bottom: 1px solid gray;flex-grow: 1;}#sk-container-id-1 div.sk-label:hover label.sk-toggleable__label {background-color: #d4ebff;}#sk-container-id-1 div.sk-serial::before {content: \"\";position: absolute;border-left: 1px solid gray;box-sizing: border-box;top: 0;bottom: 0;left: 50%;z-index: 0;}#sk-container-id-1 div.sk-serial {display: flex;flex-direction: column;align-items: center;background-color: white;padding-right: 0.2em;padding-left: 0.2em;position: relative;}#sk-container-id-1 div.sk-item {position: relative;z-index: 1;}#sk-container-id-1 div.sk-parallel {display: flex;align-items: stretch;justify-content: center;background-color: white;position: relative;}#sk-container-id-1 div.sk-item::before, #sk-container-id-1 div.sk-parallel-item::before {content: \"\";position: absolute;border-left: 1px solid gray;box-sizing: border-box;top: 0;bottom: 0;left: 50%;z-index: -1;}#sk-container-id-1 div.sk-parallel-item {display: flex;flex-direction: column;z-index: 1;position: relative;background-color: white;}#sk-container-id-1 div.sk-parallel-item:first-child::after {align-self: flex-end;width: 50%;}#sk-container-id-1 div.sk-parallel-item:last-child::after {align-self: flex-start;width: 50%;}#sk-container-id-1 div.sk-parallel-item:only-child::after {width: 0;}#sk-container-id-1 div.sk-dashed-wrapped {border: 1px dashed gray;margin: 0 0.4em 0.5em 0.4em;box-sizing: border-box;padding-bottom: 0.4em;background-color: white;}#sk-container-id-1 div.sk-label label {font-family: monospace;font-weight: bold;display: inline-block;line-height: 1.2em;}#sk-container-id-1 div.sk-label-container {text-align: center;}#sk-container-id-1 div.sk-container {/* jupyter's `normalize.less` sets `[hidden] { display: none; }` but bootstrap.min.css set `[hidden] { display: none !important; }` so we also need the `!important` here to be able to override the default hidden behavior on the sphinx rendered scikit-learn.org. See: https://github.com/scikit-learn/scikit-learn/issues/21755 */display: inline-block !important;position: relative;}#sk-container-id-1 div.sk-text-repr-fallback {display: none;}</style><div id=\"sk-container-id-1\" class=\"sk-top-container\"><div class=\"sk-text-repr-fallback\"><pre>GaussianNB()</pre><b>In a Jupyter environment, please rerun this cell to show the HTML representation or trust the notebook. <br />On GitHub, the HTML representation is unable to render, please try loading this page with nbviewer.org.</b></div><div class=\"sk-container\" hidden><div class=\"sk-item\"><div class=\"sk-estimator sk-toggleable\"><input class=\"sk-toggleable__control sk-hidden--visually\" id=\"sk-estimator-id-1\" type=\"checkbox\" checked><label for=\"sk-estimator-id-1\" class=\"sk-toggleable__label sk-toggleable__label-arrow\">GaussianNB</label><div class=\"sk-toggleable__content\"><pre>GaussianNB()</pre></div></div></div></div></div>"
            ],
            "text/plain": [
              "GaussianNB()"
            ]
          },
          "execution_count": 8,
          "metadata": {},
          "output_type": "execute_result"
        }
      ],
      "source": [
        "model_sk.fit(train_data, train_label)"
      ]
    },
    {
      "cell_type": "code",
      "execution_count": 9,
      "metadata": {
        "id": "K0cXDTmCjxlF"
      },
      "outputs": [],
      "source": [
        "y_pred = model_sk.predict(test_df)"
      ]
    },
    {
      "cell_type": "code",
      "execution_count": 10,
      "metadata": {
        "colab": {
          "base_uri": "https://localhost:8080/",
          "height": 358
        },
        "id": "boBkYhlukdVF",
        "outputId": "8529df63-7c4b-4624-ce74-6121379af79c"
      },
      "outputs": [
        {
          "data": {
            "image/png": "[encoded data removed]",
            "text/plain": [
              "<Figure size 500x500 with 1 Axes>"
            ]
          },
          "metadata": {},
          "output_type": "display_data"
        }
      ],
      "source": [
        "from sklearn.metrics import confusion_matrix\n",
        "from sklearn.metrics import precision_score, recall_score, f1_score, accuracy_score\n",
        "import matplotlib.pyplot as plt\n",
        "# Calculate the confusion matrix\n",
        "#\n",
        "conf_matrix = confusion_matrix(y_true=test_result, y_pred=y_pred)\n",
        "#\n",
        "# Print the confusion matrix using Matplotlib\n",
        "#\n",
        "fig, ax = plt.subplots(figsize=(5, 5))\n",
        "ax.matshow(conf_matrix, cmap=plt.cm.Oranges, alpha=0.3)\n",
        "for i in range(conf_matrix.shape[0]):\n",
        "    for j in range(conf_matrix.shape[1]):\n",
        "        ax.text(x=j, y=i,s=conf_matrix[i, j], va='center', ha='center', size='xx-large')\n",
        " \n",
        "plt.xlabel('Predictions', fontsize=18)\n",
        "plt.ylabel('Actuals', fontsize=18)\n",
        "plt.title('Confusion Matrix', fontsize=18)\n",
        "plt.show()"
      ]
    },
    {
      "cell_type": "code",
      "execution_count": 11,
      "metadata": {
        "colab": {
          "base_uri": "https://localhost:8080/"
        },
        "id": "vS4qMiLto_H7",
        "outputId": "0964eb57-7d48-4eb6-d0c9-68c37562a3da"
      },
      "outputs": [
        {
          "data": {
            "text/plain": [
              "0.9333333333333333"
            ]
          },
          "execution_count": 11,
          "metadata": {},
          "output_type": "execute_result"
        }
      ],
      "source": [
        "accuracy_score(test_result, y_pred)"
      ]
    },
    {
      "cell_type": "code",
      "execution_count": 12,
      "metadata": {
        "colab": {
          "base_uri": "https://localhost:8080/"
        },
        "id": "_RNnQdj4q6y7",
        "outputId": "df1b756b-fd89-470e-a91b-bd5e073ca44c"
      },
      "outputs": [
        {
          "data": {
            "text/plain": [
              "array([0.925, 0.95 ])"
            ]
          },
          "execution_count": 12,
          "metadata": {},
          "output_type": "execute_result"
        }
      ],
      "source": [
        "recall_score(test_result, y_pred, average=None)"
      ]
    },
    {
      "cell_type": "code",
      "execution_count": 13,
      "metadata": {
        "colab": {
          "base_uri": "https://localhost:8080/"
        },
        "id": "gwFK-qlUuBDJ",
        "outputId": "9cafc966-df40-4df7-8c07-5b20a412f6c1"
      },
      "outputs": [
        {
          "data": {
            "text/plain": [
              "array([0.97368421, 0.86363636])"
            ]
          },
          "execution_count": 13,
          "metadata": {},
          "output_type": "execute_result"
        }
      ],
      "source": [
        "precision_score(test_result, y_pred, average=None)"
      ]
    }
  ],
  "metadata": {
    "colab": {
      "provenance": []
    },
    "kernelspec": {
      "display_name": "Python 3.11.4 ('base')",
      "language": "python",
      "name": "python3"
    },
    "language_info": {
      "codemirror_mode": {
        "name": "ipython",
        "version": 3
      },
      "file_extension": ".py",
      "mimetype": "text/x-python",
      "name": "python",
      "nbconvert_exporter": "python",
      "pygments_lexer": "ipython3",
      "version": "3.11.4"
    },
    "vscode": {
      "interpreter": {
        "hash": "2043299c89c8cd0b4d1a6f5cf4529bd58e6a4e0fe3181a25e0d328c821cdc5c5"
      }
    }
  },
  "nbformat": 4,
  "nbformat_minor": 0
}
