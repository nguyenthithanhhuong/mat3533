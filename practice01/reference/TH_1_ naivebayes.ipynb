{
 "cells": [
  {
   "cell_type": "markdown",
   "metadata": {},
   "source": [
    "Import các thư viện thích hợp"
   ]
  },
  {
   "cell_type": "code",
   "execution_count": 18,
   "metadata": {},
   "outputs": [],
   "source": [
    "import numpy as np\n",
    "from sklearn.metrics import accuracy_score, precision_score, recall_score\n",
    "from sklearn.naive_bayes import GaussianNB"
   ]
  },
  {
   "cell_type": "markdown",
   "metadata": {},
   "source": [
    "Hàm clean(x): với x là dòng được đưa vào sẽ trả lại False nếu dòng đó không chứa dữ liệu cần thiết, đó là các dòng bắt đầu bằng \"#\" hoặc len(x) = 1 (vì có kí tự \"\\n\")"
   ]
  },
  {
   "cell_type": "code",
   "execution_count": 19,
   "metadata": {},
   "outputs": [],
   "source": [
    "def clean(x):\n",
    "    return len(x) >  1 and not (x[0] == (\"#\"))"
   ]
  },
  {
   "cell_type": "markdown",
   "metadata": {},
   "source": [
    "Hàm readData(path): đọc dữ liệu từ file, loại bỏ các dòng không chứa dữ liệu, và xóa bỏ các ký tự \"\\n\". Phân chia dữ liệu thành data và label"
   ]
  },
  {
   "cell_type": "code",
   "execution_count": 20,
   "metadata": {},
   "outputs": [],
   "source": [
    "def readData(path):\n",
    "    with open(path) as f:\n",
    "        content = f.readlines()\n",
    "        content = [x.replace(\"\\n\",\"\") for x in content if clean(x)]\n",
    "    data = np.zeros((len(content), 9), dtype = int)\n",
    "    label = np.zeros((len(content), 1), dtype = int)\n",
    "    for i, line in enumerate(content):\n",
    "        a = line.split(\",\")\n",
    "        data[i] = np.array(a[2:])\n",
    "        label[i] = np.array(int(a[1]))\n",
    "    return data, label"
   ]
  },
  {
   "cell_type": "markdown",
   "metadata": {},
   "source": [
    "Đọc dữ liệu từ \"datacum.txt\". Hoàn thành yêu cầu \"Chọn 80 mẫu lành tính (Trường phân loại là 2) và 40 mẫu ác tính (Trường phân loại là 4) làm dữ liệu Test, chúng ta sẽ không sử dụng trường phân loại. Phần còn lại sẽ là dữ liệu training\"."
   ]
  },
  {
   "cell_type": "code",
   "execution_count": 14,
   "metadata": {},
   "outputs": [],
   "source": [
    "data, label =  readData(\"D:/Code/python/mat3533/practice01/datacum.txt\")\n",
    "\n",
    "data_test = np.zeros((120, 9), dtype = int)\n",
    "\n",
    "data2_test_count = 0\n",
    "data4_test_count = 0\n",
    "data_test_count = 0\n",
    "data_train_count = 0\n",
    "\n",
    "X_train = np.zeros((len(data) - 120, 9), dtype= int)\n",
    "Y_train = np.zeros((len(data) - 120, ), dtype = int)\n",
    "Y_test = np.zeros((120, ), dtype = int)\n",
    "for i in range(len(data)):\n",
    "    if (label[i] == 2 and data2_test_count < 80):\n",
    "        data2_test_count += 1\n",
    "        data_test[data_test_count] = data[i]\n",
    "        Y_test[data_test_count] = label[i]\n",
    "        data_test_count += 1\n",
    "    elif (label[i] == 4 and data4_test_count < 40):\n",
    "        data4_test_count += 1\n",
    "        data_test[data_test_count] = data[i]\n",
    "        Y_test[data_test_count] = label[i]\n",
    "        data_test_count += 1\n",
    "    else :\n",
    "        X_train[data_train_count] = data[i]\n",
    "        Y_train[data_train_count] = label[i]\n",
    "        data_train_count += 1\n",
    "        "
   ]
  },
  {
   "cell_type": "markdown",
   "metadata": {},
   "source": [
    "Mô hình Gaussian Naive Bayes được sử dụng do dữ liệu quan sát là biến liên tục. Y_test là kết quả chính xác label ứng với data_test được đưa vào, Y_pred là label được đưa ra bởi mô hình Gaussian Naive Bayes. Accuracy (Độ chính xác) là tỉ lệ giữa số điểm dữ liệu được dự đoán đúng và tổng số điểm dữ liệu. Ở đây Positive Label (nhãn dương tính) = 4 (chuẩn đoán có ung thư hay không). Precision: tổng số chuẩn đoán đúng dương tính trên tổng số chuẩn đoán dương tính. Recall là tổng số chuẩn đoán dương tính đúng trên tổng số chuẩn đoán đúng"
   ]
  },
  {
   "cell_type": "code",
   "execution_count": 15,
   "metadata": {},
   "outputs": [
    {
     "name": "stdout",
     "output_type": "stream",
     "text": [
      "Accuracy score is:0.9333333333333333\n",
      "Precision score is:0.8636363636363636\n",
      "Recall score is:0.95\n"
     ]
    }
   ],
   "source": [
    "model_sk = GaussianNB(priors = None)\n",
    "model_sk.fit(X_train,Y_train)\n",
    "\n",
    "Y_pred = model_sk.predict(data_test)\n",
    "\n",
    "print(\"Accuracy score is:\" + str(accuracy_score(Y_test,Y_pred)))\n",
    "print(\"Precision score is:\" + str(precision_score(Y_test,Y_pred, pos_label = 4)))\n",
    "print(\"Recall score is:\" + str(recall_score(Y_test,Y_pred, pos_label = 4)))"
   ]
  },
  {
   "cell_type": "markdown",
   "metadata": {},
   "source": [
    "Có thể nhận thấy rằng các chỉ số này đạt được ở mức khá cao > 85%. "
   ]
  },
  {
   "cell_type": "code",
   "execution_count": null,
   "metadata": {},
   "outputs": [],
   "source": []
  }
 ],
 "metadata": {
  "kernelspec": {
   "display_name": "Python 3.11.4 ('base')",
   "language": "python",
   "name": "python3"
  },
  "language_info": {
   "codemirror_mode": {
    "name": "ipython",
    "version": 3
   },
   "file_extension": ".py",
   "mimetype": "text/x-python",
   "name": "python",
   "nbconvert_exporter": "python",
   "pygments_lexer": "ipython3",
   "version": "3.11.4"
  },
  "vscode": {
   "interpreter": {
    "hash": "2043299c89c8cd0b4d1a6f5cf4529bd58e6a4e0fe3181a25e0d328c821cdc5c5"
   }
  }
 },
 "nbformat": 4,
 "nbformat_minor": 2
}
