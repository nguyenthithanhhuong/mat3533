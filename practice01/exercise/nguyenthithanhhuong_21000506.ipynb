{
 "cells": [
  {
   "cell_type": "markdown",
   "metadata": {},
   "source": [
    "Import các thư viện thích hợp"
   ]
  },
  {
   "cell_type": "code",
   "execution_count": 8,
   "metadata": {},
   "outputs": [],
   "source": [
    "from __future__ import print_function\n",
    "from sklearn.naive_bayes import GaussianNB\n",
    "from sklearn.metrics import accuracy_score, precision_score, recall_score\n",
    "import numpy as np\n",
    "import pandas as pd"
   ]
  },
  {
   "cell_type": "markdown",
   "metadata": {},
   "source": [
    "Hàm clean(x): Dùng để loại bỏ những dòng dữ liệu không cần thiết trong file dữ liệu. \\\n",
    "Trả về `FALSE` nếu dòng `x` có độ dài `len(x) = 1` hoặc bắt đầu bằng dấu \"#\".\\\n",
    "Trả về `TRUE` nếu ngược lại"
   ]
  },
  {
   "cell_type": "code",
   "execution_count": 9,
   "metadata": {},
   "outputs": [],
   "source": [
    "def clean(x):\n",
    "    return len(x) >  1 and not (x[0] == (\"#\"))"
   ]
  },
  {
   "cell_type": "markdown",
   "metadata": {},
   "source": [
    "Hàm read_data(path): Đọc dữ liệu từ file thông qua đường dẫn `path` và xử lý dữ liệu.\n",
    "Xóa bỏ các dòng không chứa dữ liệu và các kí tự `\\n`.\n",
    "Trả về DataFrame `data` chứa dữ liệu sau khi được đọc và xử lý."
   ]
  },
  {
   "cell_type": "code",
   "execution_count": 15,
   "metadata": {},
   "outputs": [],
   "source": [
    "def read_data(path):\n",
    "    with open(path) as f:\n",
    "        content = f.readlines()\n",
    "        content = [x.replace(\"\\n\",\"\") for x in content if clean(x)]\n",
    "    data = np.zeros((len(content), 10), dtype = int)\n",
    "    for i, line in enumerate(content):\n",
    "        a = line.split(\",\")\n",
    "        data[i] = np.array(a[1:])\n",
    "    data = pd.DataFrame(data)\n",
    "    return data"
   ]
  },
  {
   "cell_type": "markdown",
   "metadata": {},
   "source": [
    "Đọc và xử lý dữ liệu từ file \"datacum.txt\""
   ]
  },
  {
   "cell_type": "code",
   "execution_count": 16,
   "metadata": {},
   "outputs": [
    {
     "name": "stdout",
     "output_type": "stream",
     "text": [
      "     0  1   2   3  4  5   6   7   8  9\n",
      "0    2  5   1   1  1  2   1   3   1  1\n",
      "1    2  5   4   4  5  7  10   3   2  1\n",
      "2    2  3   1   1  1  2   2   3   1  1\n",
      "3    2  6   8   8  1  3   4   3   7  1\n",
      "4    2  4   1   1  3  2   1   3   1  1\n",
      "..  .. ..  ..  .. .. ..  ..  ..  .. ..\n",
      "694  2  3   1   1  1  3   2   1   1  1\n",
      "695  2  2   1   1  1  2   1   1   1  1\n",
      "696  4  5  10  10  3  7   3   8  10  2\n",
      "697  4  4   8   6  4  3   4  10   6  1\n",
      "698  4  4   8   8  5  4   5  10   4  1\n",
      "\n",
      "[699 rows x 10 columns]\n"
     ]
    }
   ],
   "source": [
    "data =  read_data(\"D:/Code/python/mat3533/practice01/data/datacum.txt\")\n",
    "print(data)"
   ]
  },
  {
   "cell_type": "markdown",
   "metadata": {},
   "source": [
    "Chọn ra 80 mẫu lành tính và 40 mẫu ác tính làm dữ liệu Test\n",
    "Phần dữ liệu còn lại được sử dụng làm dữ liệu training"
   ]
  },
  {
   "cell_type": "code",
   "execution_count": 17,
   "metadata": {},
   "outputs": [],
   "source": [
    "benign = data[data[0] == 2]\n",
    "benign_test = benign.head(80)\n",
    "\n",
    "malignant = data.loc[data[0] == 4]\n",
    "malignant_test = malignant.head(40)\n",
    "\n",
    "test = pd.concat([benign_test, malignant_test])\n",
    "train = data.drop(test.index)\n",
    "\n",
    "train_label = train[0]\n",
    "train_data = train.drop(0, axis = 1)\n",
    "\n",
    "test_label = test[0]\n",
    "test_data = test.drop(0, axis = 1)"
   ]
  },
  {
   "cell_type": "markdown",
   "metadata": {},
   "source": [
    "Sử dụng mô hình Gaussian Naive Bayes để lập chương trình thực hiện phân loại dữ liệu dựa trên dữ liệu trainning.\n",
    "Sau đó, thực hiện kiểm chứng các chỉ số:\n",
    "`Acurracy`: Độ chính xác của mô hình, là tỷ lệ giữa số lần dự đoán đúng trên tổng số lượng mẫu.\n",
    "`Precision`: Tỷ lệ giữa số lần dự đoán đúng dương tính trên tổng số lần mô hình dự đoán dương tính (ở đây: nhãn dương trính = 4).\n",
    "`Recall`: Tổng số chuẩn đoán dương tính trên tổng số chuẩn đoán dúng (nhãn dương tính = 4)."
   ]
  },
  {
   "cell_type": "code",
   "execution_count": 14,
   "metadata": {},
   "outputs": [
    {
     "name": "stdout",
     "output_type": "stream",
     "text": [
      "Accuracy score is:0.9333333333333333\n",
      "Precision score is:0.8636363636363636\n",
      "Recall score is:0.95\n"
     ]
    }
   ],
   "source": [
    "model_sk = GaussianNB(priors = None)\n",
    "model_sk.fit(train_data, train_label)\n",
    "\n",
    "Y_pred = model_sk.predict(test_data)\n",
    "\n",
    "print(\"Accuracy score is: \" + str(accuracy_score(test_label, Y_pred)))\n",
    "print(\"Precision score is: \" + str(precision_score(test_label, Y_pred, pos_label = 4)))\n",
    "print(\"Recall score is: \" + str(recall_score(test_label, Y_pred, pos_label = 4)))"
   ]
  }
 ],
 "metadata": {
  "kernelspec": {
   "display_name": "Python 3.11.4 ('base')",
   "language": "python",
   "name": "python3"
  },
  "language_info": {
   "codemirror_mode": {
    "name": "ipython",
    "version": 3
   },
   "file_extension": ".py",
   "mimetype": "text/x-python",
   "name": "python",
   "nbconvert_exporter": "python",
   "pygments_lexer": "ipython3",
   "version": "3.11.4"
  },
  "orig_nbformat": 4,
  "vscode": {
   "interpreter": {
    "hash": "2043299c89c8cd0b4d1a6f5cf4529bd58e6a4e0fe3181a25e0d328c821cdc5c5"
   }
  }
 },
 "nbformat": 4,
 "nbformat_minor": 2
}
