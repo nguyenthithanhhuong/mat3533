{
 "cells": [
  {
   "cell_type": "code",
   "execution_count": 7,
   "metadata": {},
   "outputs": [],
   "source": [
    "import cv2\n",
    "import numpy as np\n",
    "import os"
   ]
  },
  {
   "cell_type": "code",
   "execution_count": 15,
   "metadata": {},
   "outputs": [
    {
     "name": "stdout",
     "output_type": "stream",
     "text": [
      "Kích thước mảng ảnh kiểm tra: (3, 28, 28)\n"
     ]
    }
   ],
   "source": [
    "# Đường dẫn đến thư mục chứa ảnh kiểm tra\n",
    "test_path = 'D:/Code/python/mat3533/project/expand/test/'\n",
    "\n",
    "prefix = 'test_pic'\n",
    "surfix = '.jpg'\n",
    "\n",
    "# h = 28 # hight\n",
    "# w = 28 # width\n",
    "# D = h * w\n",
    "# N = 3\n",
    "\n",
    "# X = np.zeros((D, N))\n",
    "\n",
    "# Kích thước mới của ảnh\n",
    "new_height = 28\n",
    "new_width = 28\n",
    "\n",
    "images = []\n",
    "\n",
    "for person_id in range(1, 4):\n",
    "        fn = test_path + prefix + str(person_id).zfill(2) + surfix\n",
    "        # open the file and read as grey image\n",
    "        image = cv2.imread(fn, cv2.IMREAD_GRAYSCALE)\n",
    "        # then add image to dataset X\n",
    "        resized_image = cv2.resize(image, (new_width, new_height))  # Điều chỉnh kích thước\n",
    "        images.append(resized_image)\n",
    "\n",
    "# Chuyển danh sách ảnh thành mảng numpy\n",
    "test_images = np.array(images)\n",
    "\n",
    "\n",
    "# Kiểm tra kích thước của mảng\n",
    "print(\"Kích thước mảng ảnh kiểm tra:\", test_images.shape)\n"
   ]
  },
  {
   "cell_type": "code",
   "execution_count": 16,
   "metadata": {},
   "outputs": [
    {
     "data": {
      "image/png": "[encoded data removed]",
      "text/plain": [
       "<Figure size 1000x500 with 3 Axes>"
      ]
     },
     "metadata": {},
     "output_type": "display_data"
    }
   ],
   "source": [
    "import matplotlib.pyplot as plt\n",
    "\n",
    "plt.figure(figsize=(10, 5))\n",
    "for i in range(len(test_images)):\n",
    "    plt.subplot(1, len(test_images), i + 1)\n",
    "    plt.imshow(test_images[i], cmap='gray')\n",
    "    plt.title(\"Test Image \" + str(i+1))\n",
    "    plt.axis('off')\n",
    "plt.show()"
   ]
  },
  {
   "cell_type": "code",
   "execution_count": null,
   "metadata": {},
   "outputs": [],
   "source": [
    "from sklearn.preprocessing import StandardScaler\n",
    "\n",
    "scaler = StandardScaler()\n",
    "test_x = scaler.fit_transform(test_images)\n",
    "\n",
    "print(test_x.shape)"
   ]
  },
  {
   "cell_type": "code",
   "execution_count": null,
   "metadata": {},
   "outputs": [],
   "source": [
    "from sklearn.decomposition import PCA\n",
    "\n",
    "pca = PCA(n_components=100)\n",
    "X_test = pca.fit_transform(test_images)\n",
    "\n",
    "print(X_test.shape)"
   ]
  }
 ],
 "metadata": {
  "kernelspec": {
   "display_name": "Python 3.11.4 ('base')",
   "language": "python",
   "name": "python3"
  },
  "language_info": {
   "codemirror_mode": {
    "name": "ipython",
    "version": 3
   },
   "file_extension": ".py",
   "mimetype": "text/x-python",
   "name": "python",
   "nbconvert_exporter": "python",
   "pygments_lexer": "ipython3",
   "version": "3.11.4"
  },
  "orig_nbformat": 4,
  "vscode": {
   "interpreter": {
    "hash": "2043299c89c8cd0b4d1a6f5cf4529bd58e6a4e0fe3181a25e0d328c821cdc5c5"
   }
  }
 },
 "nbformat": 4,
 "nbformat_minor": 2
}
