{
 "cells": [
  {
   "cell_type": "code",
   "execution_count": 1,
   "metadata": {},
   "outputs": [],
   "source": [
    "import zipfile\n",
    "import os\n",
    "import numpy as np\n",
    "from sklearn.decomposition import PCA\n",
    "from keras.preprocessing.image import load_img, img_to_array\n",
    "from keras.models import load_model\n",
    "from sklearn.linear_model import LogisticRegression\n",
    "from sklearn.metrics import accuracy_score, precision_score, recall_score\n"
   ]
  },
  {
   "cell_type": "code",
   "execution_count": 2,
   "metadata": {},
   "outputs": [],
   "source": [
    "# Unzip the archive\n",
    "local_zip = 'D:/Code/python/mat3533/practice08/data/cats_and_dogs_filtered.zip'\n",
    "zip_ref = zipfile.ZipFile(local_zip, 'r')\n",
    "zip_ref.extractall()\n",
    "zip_ref.close()"
   ]
  },
  {
   "cell_type": "code",
   "execution_count": 3,
   "metadata": {},
   "outputs": [
    {
     "name": "stdout",
     "output_type": "stream",
     "text": [
      "Contents of base directory:\n",
      "['train', 'validation', 'vectorize.py']\n",
      "\n",
      "Contents of train directory:\n",
      "['cats', 'dogs']\n",
      "\n",
      "Contents of validation directory:\n",
      "['cats', 'dogs']\n"
     ]
    }
   ],
   "source": [
    "base_dir = 'D:/Code/python/mat3533/practice08/exercise/ex01/cats_and_dogs_filtered'\n",
    "# Change the base_dir to where you put dataset\n",
    "print(\"Contents of base directory:\")\n",
    "print(os.listdir(base_dir))\n",
    "print(\"\\nContents of train directory:\")\n",
    "print(os.listdir(f'{base_dir}\\\\train'))\n",
    "print(\"\\nContents of validation directory:\")\n",
    "print(os.listdir(f'{base_dir}\\\\validation'))"
   ]
  },
  {
   "cell_type": "code",
   "execution_count": 4,
   "metadata": {},
   "outputs": [
    {
     "name": "stdout",
     "output_type": "stream",
     "text": [
      "\n",
      "Contents of train directory:\n",
      "['cats', 'dogs']\n",
      "\n",
      "Contents of validation directory:\n",
      "['cats', 'dogs']\n"
     ]
    }
   ],
   "source": [
    "train_dir = os.path.join(base_dir, 'train')\n",
    "validation_dir = os.path.join(base_dir, 'validation')\n",
    "# Directory with training cat/dog pictures\n",
    "train_cats_dir = os.path.join(train_dir, 'cats')\n",
    "train_dogs_dir = os.path.join(train_dir, 'dogs')\n",
    "# Directory with validation cat/dog pictures\n",
    "validation_cats_dir = os.path.join(validation_dir, 'cats')\n",
    "validation_dogs_dir = os.path.join(validation_dir, 'dogs')\n",
    "print(\"\\nContents of train directory:\")\n",
    "print(os.listdir(f'{base_dir}\\\\train'))\n",
    "print(\"\\nContents of validation directory:\")\n",
    "print(os.listdir(f'{base_dir}\\\\validation'))"
   ]
  },
  {
   "cell_type": "code",
   "execution_count": 5,
   "metadata": {},
   "outputs": [
    {
     "name": "stdout",
     "output_type": "stream",
     "text": [
      "['cat.0.jpg', 'cat.0.npy', 'cat.1.jpg', 'cat.1.npy', 'cat.10.jpg', 'cat.10.npy', 'cat.100.jpg', 'cat.100.npy', 'cat.101.jpg', 'cat.101.npy']\n",
      "['dog.0.jpg', 'dog.0.npy', 'dog.1.jpg', 'dog.1.npy', 'dog.10.jpg', 'dog.10.npy', 'dog.100.jpg', 'dog.100.npy', 'dog.101.jpg', 'dog.101.npy']\n",
      "total training cat images : 2000\n",
      "total training dog images : 2000\n",
      "total validation cat images : 1000\n",
      "total validation dog images : 1000\n"
     ]
    }
   ],
   "source": [
    "train_cat_fnames = os.listdir( train_cats_dir )\n",
    "train_dog_fnames = os.listdir( train_dogs_dir )\n",
    "print(train_cat_fnames[:10])\n",
    "print(train_dog_fnames[:10])\n",
    "print('total training cat images :', len(os.listdir( train_cats_dir ) ))\n",
    "print('total training dog images :', len(os.listdir( train_dogs_dir ) ))\n",
    "print('total validation cat images :', len(os.listdir( validation_cats_dir ) ))\n",
    "print('total validation dog images :', len(os.listdir( validation_dogs_dir ) ))"
   ]
  },
  {
   "cell_type": "code",
   "execution_count": 6,
   "metadata": {},
   "outputs": [
    {
     "name": "stdout",
     "output_type": "stream",
     "text": [
      "Found 2000 images belonging to 2 classes.\n",
      "Found 1000 images belonging to 2 classes.\n"
     ]
    }
   ],
   "source": [
    "from tensorflow.keras.preprocessing.image import ImageDataGenerator\n",
    "# All images will be rescaled by 1./255.\n",
    "train_datagen = ImageDataGenerator( rescale = 1.0/255. )\n",
    "test_datagen = ImageDataGenerator( rescale = 1.0/255. )\n",
    "# --------------------\n",
    "# Flow training images in batches of 20 using train_datagen generator\n",
    "# --------------------\n",
    "train_generator = train_datagen.flow_from_directory(train_dir,\n",
    "batch_size=20,\n",
    "class_mode='binary',\n",
    "target_size=(150, 150))\n",
    "\n",
    "# --------------------\n",
    "# Flow validation images in batches of 20 using test_datagen generator\n",
    "# --------------------\n",
    "validation_generator = test_datagen.flow_from_directory(validation_dir,\n",
    "                                                        batch_size=20,\n",
    "                                                        class_mode = 'binary',\n",
    "                                                        target_size = (150, 150))"
   ]
  },
  {
   "cell_type": "code",
   "execution_count": 7,
   "metadata": {},
   "outputs": [
    {
     "name": "stdout",
     "output_type": "stream",
     "text": [
      "Reshaped train images shape: (2000, 67500)\n",
      "Reshaped validation images shape: (1000, 67500)\n"
     ]
    }
   ],
   "source": [
    "train_images_reshaped = []\n",
    "for i in range(len(train_generator)):\n",
    "    batch_images = train_generator[i][0]  # Lấy batch ảnh\n",
    "    batch_images_reshaped = batch_images.reshape((-1, 150 * 150 * 3))  # Reshape từng ảnh trong batch\n",
    "    train_images_reshaped.append(batch_images_reshaped)\n",
    "\n",
    "# Gộp tất cả các ảnh thành một array\n",
    "train_images_reshaped = np.concatenate(train_images_reshaped, axis=0)\n",
    "\n",
    "print(\"Reshaped train images shape:\", train_images_reshaped.shape)\n",
    "\n",
    "# Chuyển tất cả các ảnh từ validation_generator\n",
    "validation_images_reshaped = []\n",
    "for i in range(len(validation_generator)):\n",
    "    batch_images = validation_generator[i][0]  # Lấy batch ảnh\n",
    "    batch_images_reshaped = batch_images.reshape((-1, 150 * 150 * 3))  # Reshape từng ảnh trong batch\n",
    "    validation_images_reshaped.append(batch_images_reshaped)\n",
    "\n",
    "# Gộp tất cả các ảnh thành một array\n",
    "validation_images_reshaped = np.concatenate(validation_images_reshaped, axis=0)\n",
    "\n",
    "print(\"Reshaped validation images shape:\", validation_images_reshaped.shape)\n"
   ]
  },
  {
   "cell_type": "markdown",
   "metadata": {},
   "source": [
    "Giảm số chiều dữ liệu về 225 chiều"
   ]
  },
  {
   "cell_type": "code",
   "execution_count": 29,
   "metadata": {},
   "outputs": [
    {
     "name": "stdout",
     "output_type": "stream",
     "text": [
      "Shape of train images after PCA: (2000, 225)\n",
      "Shape of validation images after PCA: (1000, 225)\n"
     ]
    }
   ],
   "source": [
    "pca = PCA(n_components=225)\n",
    "\n",
    "pca.fit(train_images_reshaped)\n",
    "\n",
    "train_images_pca = pca.transform(train_images_reshaped)\n",
    "validation_images_pca = pca.transform(validation_images_reshaped)\n",
    "\n",
    "print(\"Shape of train images after PCA:\", train_images_pca.shape)\n",
    "print(\"Shape of validation images after PCA:\", validation_images_pca.shape)\n"
   ]
  },
  {
   "cell_type": "code",
   "execution_count": 9,
   "metadata": {},
   "outputs": [],
   "source": [
    "train_labels = train_generator.labels\n",
    "val_labels = validation_generator.labels"
   ]
  },
  {
   "cell_type": "markdown",
   "metadata": {},
   "source": [
    "Huấn luyện mô hình ANN"
   ]
  },
  {
   "cell_type": "code",
   "execution_count": 10,
   "metadata": {},
   "outputs": [
    {
     "name": "stdout",
     "output_type": "stream",
     "text": [
      "Epoch 1/10\n"
     ]
    },
    {
     "name": "stderr",
     "output_type": "stream",
     "text": [
      "c:\\Users\\Admin\\anaconda3\\Lib\\site-packages\\keras\\src\\layers\\reshaping\\flatten.py:37: UserWarning: Do not pass an `input_shape`/`input_dim` argument to a layer. When using Sequential models, prefer using an `Input(shape)` object as the first layer in the model instead.\n",
      "  super().__init__(**kwargs)\n"
     ]
    },
    {
     "name": "stdout",
     "output_type": "stream",
     "text": [
      "\u001b[1m50/50\u001b[0m \u001b[32m━━━━━━━━━━━━━━━━━━━━\u001b[0m\u001b[37m\u001b[0m \u001b[1m2s\u001b[0m 7ms/step - accuracy: 0.5015 - loss: 1.6430 - val_accuracy: 0.2825 - val_loss: 1.1202\n",
      "Epoch 2/10\n",
      "\u001b[1m50/50\u001b[0m \u001b[32m━━━━━━━━━━━━━━━━━━━━\u001b[0m\u001b[37m\u001b[0m \u001b[1m0s\u001b[0m 3ms/step - accuracy: 0.6838 - loss: 0.5939 - val_accuracy: 0.2450 - val_loss: 1.1964\n",
      "Epoch 3/10\n",
      "\u001b[1m50/50\u001b[0m \u001b[32m━━━━━━━━━━━━━━━━━━━━\u001b[0m\u001b[37m\u001b[0m \u001b[1m0s\u001b[0m 3ms/step - accuracy: 0.7994 - loss: 0.4651 - val_accuracy: 0.1550 - val_loss: 1.4480\n",
      "Epoch 4/10\n",
      "\u001b[1m50/50\u001b[0m \u001b[32m━━━━━━━━━━━━━━━━━━━━\u001b[0m\u001b[37m\u001b[0m \u001b[1m0s\u001b[0m 2ms/step - accuracy: 0.8841 - loss: 0.3582 - val_accuracy: 0.2275 - val_loss: 1.4945\n",
      "Epoch 5/10\n",
      "\u001b[1m50/50\u001b[0m \u001b[32m━━━━━━━━━━━━━━━━━━━━\u001b[0m\u001b[37m\u001b[0m \u001b[1m0s\u001b[0m 3ms/step - accuracy: 0.9284 - loss: 0.2609 - val_accuracy: 0.3625 - val_loss: 1.2649\n",
      "Epoch 6/10\n",
      "\u001b[1m50/50\u001b[0m \u001b[32m━━━━━━━━━━━━━━━━━━━━\u001b[0m\u001b[37m\u001b[0m \u001b[1m0s\u001b[0m 3ms/step - accuracy: 0.9701 - loss: 0.1898 - val_accuracy: 0.3025 - val_loss: 1.5665\n",
      "Epoch 7/10\n",
      "\u001b[1m50/50\u001b[0m \u001b[32m━━━━━━━━━━━━━━━━━━━━\u001b[0m\u001b[37m\u001b[0m \u001b[1m0s\u001b[0m 3ms/step - accuracy: 0.9934 - loss: 0.1178 - val_accuracy: 0.3075 - val_loss: 1.8467\n",
      "Epoch 8/10\n",
      "\u001b[1m50/50\u001b[0m \u001b[32m━━━━━━━━━━━━━━━━━━━━\u001b[0m\u001b[37m\u001b[0m \u001b[1m0s\u001b[0m 3ms/step - accuracy: 0.9974 - loss: 0.0761 - val_accuracy: 0.3250 - val_loss: 1.9918\n",
      "Epoch 9/10\n",
      "\u001b[1m50/50\u001b[0m \u001b[32m━━━━━━━━━━━━━━━━━━━━\u001b[0m\u001b[37m\u001b[0m \u001b[1m0s\u001b[0m 3ms/step - accuracy: 0.9999 - loss: 0.0498 - val_accuracy: 0.2700 - val_loss: 2.5475\n",
      "Epoch 10/10\n",
      "\u001b[1m50/50\u001b[0m \u001b[32m━━━━━━━━━━━━━━━━━━━━\u001b[0m\u001b[37m\u001b[0m \u001b[1m0s\u001b[0m 3ms/step - accuracy: 1.0000 - loss: 0.0313 - val_accuracy: 0.2750 - val_loss: 2.6990\n"
     ]
    },
    {
     "data": {
      "text/plain": [
       "<keras.src.callbacks.history.History at 0x2135524ce90>"
      ]
     },
     "execution_count": 10,
     "metadata": {},
     "output_type": "execute_result"
    }
   ],
   "source": [
    "import tensorflow as tf\n",
    "from keras.models import Sequential\n",
    "from keras.layers import Dense, Activation, Flatten\n",
    "\n",
    "model = Sequential()\n",
    "\n",
    "model.add(Flatten(input_shape = (225,)))\n",
    "model.add(Dense(128,activation = 'relu'))\n",
    "model.add(Dense(64,activation = 'relu'))\n",
    "model.add(Dense(32,activation = 'relu'))\n",
    "model.add(Dense(10,activation = 'softmax')) \n",
    "\n",
    "model.compile(loss = 'sparse_categorical_crossentropy', \n",
    "              optimizer = 'Adam', \n",
    "              metrics = ['accuracy'])\n",
    "\n",
    "model.fit(train_images_pca,train_labels,epochs= 10 , validation_split = .2)"
   ]
  },
  {
   "cell_type": "markdown",
   "metadata": {},
   "source": [
    "Chạy dự đoán cho tập dữ liệu test"
   ]
  },
  {
   "cell_type": "code",
   "execution_count": 11,
   "metadata": {},
   "outputs": [
    {
     "name": "stdout",
     "output_type": "stream",
     "text": [
      "\u001b[1m32/32\u001b[0m \u001b[32m━━━━━━━━━━━━━━━━━━━━\u001b[0m\u001b[37m\u001b[0m \u001b[1m0s\u001b[0m 3ms/step\n"
     ]
    }
   ],
   "source": [
    "y_pred = model.predict(validation_images_pca)\n",
    "y_pred = y_pred.argmax(axis = 1)"
   ]
  },
  {
   "cell_type": "markdown",
   "metadata": {},
   "source": [
    "Độ chính xác của mô hình"
   ]
  },
  {
   "cell_type": "code",
   "execution_count": 12,
   "metadata": {},
   "outputs": [
    {
     "name": "stdout",
     "output_type": "stream",
     "text": [
      "Accuracy: 0.535\n",
      "Precision: 0.5453652289777529\n",
      "Recall: 0.535\n"
     ]
    }
   ],
   "source": [
    "accuracy = accuracy_score(val_labels, y_pred)\n",
    "print(\"Accuracy:\", accuracy)\n",
    "\n",
    "precision = precision_score(val_labels, y_pred, average='macro')\n",
    "print(\"Precision:\", precision)\n",
    "\n",
    "recall = recall_score(val_labels, y_pred, average='macro')\n",
    "print(\"Recall:\", recall)"
   ]
  },
  {
   "cell_type": "markdown",
   "metadata": {},
   "source": [
    "Chuẩn bị dữ liệu test mới"
   ]
  },
  {
   "cell_type": "code",
   "execution_count": 31,
   "metadata": {},
   "outputs": [
    {
     "data": {
      "text/plain": [
       "(20, 225)"
      ]
     },
     "execution_count": 31,
     "metadata": {},
     "output_type": "execute_result"
    }
   ],
   "source": [
    "from PIL import Image\n",
    "\n",
    "# Đường dẫn tới thư mục chứa ảnh\n",
    "directory = 'D:/Code/python/mat3533/practice08/data/test_dog_cat'\n",
    "\n",
    "# Tạo một danh sách để lưu trữ các tên file ảnh\n",
    "image_files = []\n",
    "\n",
    "# Lặp qua các số từ 1 đến 20 để tìm tên ảnh\n",
    "for i in range(1, 21):\n",
    "    # Tạo tên file ảnh dựa trên số thứ tự\n",
    "    filename = f'pic{i}.jpg'\n",
    "    # Kiểm tra xem file có tồn tại trong thư mục không\n",
    "    if os.path.exists(os.path.join(directory, filename)):\n",
    "        # Nếu tồn tại, thêm vào danh sách\n",
    "        image_files.append(filename)\n",
    "\n",
    "# Khởi tạo danh sách để lưu trữ dữ liệu hình ảnh\n",
    "test_new_images = []\n",
    "\n",
    "# Lặp qua các tên file ảnh đã tìm được\n",
    "for filename in image_files:\n",
    "    # Đọc ảnh từ file\n",
    "    img = Image.open(os.path.join(directory, filename))\n",
    "    # Resize ảnh về kích thước cố định, ví dụ (100, 100)\n",
    "    img = img.resize((150, 150))\n",
    "    # Chuyển ảnh thành mảng numpy\n",
    "    img_array = np.array(img)\n",
    "    # Thêm mảng numpy này vào danh sách dữ liệu\n",
    "    test_new_images.append(img_array)\n",
    "\n",
    "# Chuyển danh sách dữ liệu thành mảng numpy\n",
    "test_new_images = np.array(test_new_images)\n",
    "\n",
    "# Giảm số chiều về 225 chiều\n",
    "test_new_images = test_new_images.reshape(20, -1)\n",
    "test_new_images_pca = pca.transform(test_new_images)\n",
    "\n",
    "# print(test_new_images.shape)\n",
    "test_new_images_pca.shape"
   ]
  },
  {
   "cell_type": "markdown",
   "metadata": {},
   "source": [
    "Chạy dự đoán dữ liệu test mới"
   ]
  },
  {
   "cell_type": "code",
   "execution_count": 32,
   "metadata": {},
   "outputs": [
    {
     "name": "stdout",
     "output_type": "stream",
     "text": [
      "\u001b[1m1/1\u001b[0m \u001b[32m━━━━━━━━━━━━━━━━━━━━\u001b[0m\u001b[37m\u001b[0m \u001b[1m0s\u001b[0m 32ms/step\n"
     ]
    },
    {
     "data": {
      "text/plain": [
       "array([1, 0, 1, 1, 1, 0, 0, 1, 1, 0, 0, 0, 0, 0, 0, 0, 1, 1, 1, 1],\n",
       "      dtype=int64)"
      ]
     },
     "execution_count": 32,
     "metadata": {},
     "output_type": "execute_result"
    }
   ],
   "source": [
    "y_pred_new = model.predict(test_new_images_pca)\n",
    "y_pred_new = y_pred_new.argmax(axis = 1)\n",
    "y_pred_new"
   ]
  }
 ],
 "metadata": {
  "kernelspec": {
   "display_name": "Python 3.11.4 ('base')",
   "language": "python",
   "name": "python3"
  },
  "language_info": {
   "codemirror_mode": {
    "name": "ipython",
    "version": 3
   },
   "file_extension": ".py",
   "mimetype": "text/x-python",
   "name": "python",
   "nbconvert_exporter": "python",
   "pygments_lexer": "ipython3",
   "version": "3.11.4"
  },
  "orig_nbformat": 4,
  "vscode": {
   "interpreter": {
    "hash": "2043299c89c8cd0b4d1a6f5cf4529bd58e6a4e0fe3181a25e0d328c821cdc5c5"
   }
  }
 },
 "nbformat": 4,
 "nbformat_minor": 2
}
