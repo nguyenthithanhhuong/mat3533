{
 "cells": [
  {
   "cell_type": "code",
   "execution_count": 21,
   "metadata": {},
   "outputs": [],
   "source": [
    "import zipfile\n",
    "import os\n",
    "import numpy as np\n",
    "from sklearn.decomposition import PCA\n",
    "from keras.preprocessing.image import load_img, img_to_array\n",
    "from keras.models import load_model\n",
    "from sklearn.linear_model import LogisticRegression\n",
    "from sklearn.metrics import accuracy_score, precision_score, recall_score\n"
   ]
  },
  {
   "cell_type": "code",
   "execution_count": 22,
   "metadata": {},
   "outputs": [],
   "source": [
    "# Unzip the archive\n",
    "local_zip = 'D:/Code/python/mat3533/practice08/data/cats_and_dogs_filtered.zip'\n",
    "zip_ref = zipfile.ZipFile(local_zip, 'r')\n",
    "zip_ref.extractall()\n",
    "zip_ref.close()"
   ]
  },
  {
   "cell_type": "code",
   "execution_count": 23,
   "metadata": {},
   "outputs": [
    {
     "name": "stdout",
     "output_type": "stream",
     "text": [
      "Contents of base directory:\n",
      "['train', 'validation', 'vectorize.py']\n",
      "\n",
      "Contents of train directory:\n",
      "['cats', 'dogs']\n",
      "\n",
      "Contents of validation directory:\n",
      "['cats', 'dogs']\n"
     ]
    }
   ],
   "source": [
    "base_dir = 'D:/Code/python/mat3533/practice08/exercise/ex01/cats_and_dogs_filtered'\n",
    "# Change the base_dir to where you put dataset\n",
    "print(\"Contents of base directory:\")\n",
    "print(os.listdir(base_dir))\n",
    "print(\"\\nContents of train directory:\")\n",
    "print(os.listdir(f'{base_dir}\\\\train'))\n",
    "print(\"\\nContents of validation directory:\")\n",
    "print(os.listdir(f'{base_dir}\\\\validation'))"
   ]
  },
  {
   "cell_type": "code",
   "execution_count": 24,
   "metadata": {},
   "outputs": [
    {
     "name": "stdout",
     "output_type": "stream",
     "text": [
      "\n",
      "Contents of train directory:\n",
      "['cats', 'dogs']\n",
      "\n",
      "Contents of validation directory:\n",
      "['cats', 'dogs']\n"
     ]
    }
   ],
   "source": [
    "train_dir = os.path.join(base_dir, 'train')\n",
    "validation_dir = os.path.join(base_dir, 'validation')\n",
    "# Directory with training cat/dog pictures\n",
    "train_cats_dir = os.path.join(train_dir, 'cats')\n",
    "train_dogs_dir = os.path.join(train_dir, 'dogs')\n",
    "# Directory with validation cat/dog pictures\n",
    "validation_cats_dir = os.path.join(validation_dir, 'cats')\n",
    "validation_dogs_dir = os.path.join(validation_dir, 'dogs')\n",
    "print(\"\\nContents of train directory:\")\n",
    "print(os.listdir(f'{base_dir}\\\\train'))\n",
    "print(\"\\nContents of validation directory:\")\n",
    "print(os.listdir(f'{base_dir}\\\\validation'))"
   ]
  },
  {
   "cell_type": "code",
   "execution_count": 27,
   "metadata": {},
   "outputs": [
    {
     "name": "stdout",
     "output_type": "stream",
     "text": [
      "['cat.0.jpg', 'cat.0.npy', 'cat.1.jpg', 'cat.1.npy', 'cat.10.jpg', 'cat.10.npy', 'cat.100.jpg', 'cat.100.npy', 'cat.101.jpg', 'cat.101.npy']\n",
      "['dog.0.jpg', 'dog.0.npy', 'dog.1.jpg', 'dog.1.npy', 'dog.10.jpg', 'dog.10.npy', 'dog.100.jpg', 'dog.100.npy', 'dog.101.jpg', 'dog.101.npy']\n",
      "total training cat images : 2000\n",
      "total training dog images : 2000\n",
      "total validation cat images : 1000\n",
      "total validation dog images : 1000\n"
     ]
    }
   ],
   "source": [
    "train_cat_fnames = os.listdir( train_cats_dir )\n",
    "train_dog_fnames = os.listdir( train_dogs_dir )\n",
    "print(train_cat_fnames[:10])\n",
    "print(train_dog_fnames[:10])\n",
    "print('total training cat images :', len(os.listdir( train_cats_dir ) ))\n",
    "print('total training dog images :', len(os.listdir( train_dogs_dir ) ))\n",
    "print('total validation cat images :', len(os.listdir( validation_cats_dir ) ))\n",
    "print('total validation dog images :', len(os.listdir( validation_dogs_dir ) ))"
   ]
  },
  {
   "cell_type": "code",
   "execution_count": 28,
   "metadata": {},
   "outputs": [
    {
     "name": "stdout",
     "output_type": "stream",
     "text": [
      "Found 2000 images belonging to 2 classes.\n",
      "Found 1000 images belonging to 2 classes.\n"
     ]
    }
   ],
   "source": [
    "from tensorflow.keras.preprocessing.image import ImageDataGenerator\n",
    "# All images will be rescaled by 1./255.\n",
    "train_datagen = ImageDataGenerator( rescale = 1.0/255. )\n",
    "test_datagen = ImageDataGenerator( rescale = 1.0/255. )\n",
    "# --------------------\n",
    "# Flow training images in batches of 20 using train_datagen generator\n",
    "# --------------------\n",
    "train_generator = train_datagen.flow_from_directory(train_dir,\n",
    "batch_size=20,\n",
    "class_mode='binary',\n",
    "target_size=(150, 150))\n",
    "\n",
    "# --------------------\n",
    "# Flow validation images in batches of 20 using test_datagen generator\n",
    "# --------------------\n",
    "validation_generator = test_datagen.flow_from_directory(validation_dir,\n",
    "                                                        batch_size=20,\n",
    "                                                        class_mode = 'binary',\n",
    "                                                        target_size = (150, 150))"
   ]
  },
  {
   "cell_type": "code",
   "execution_count": 49,
   "metadata": {},
   "outputs": [
    {
     "name": "stdout",
     "output_type": "stream",
     "text": [
      "Reshaped train images shape: (2000, 67500)\n",
      "Reshaped validation images shape: (1000, 67500)\n"
     ]
    }
   ],
   "source": [
    "train_images_reshaped = []\n",
    "for i in range(len(train_generator)):\n",
    "    batch_images = train_generator[i][0]  # Lấy batch ảnh\n",
    "    batch_images_reshaped = batch_images.reshape((-1, 150 * 150 * 3))  # Reshape từng ảnh trong batch\n",
    "    train_images_reshaped.append(batch_images_reshaped)\n",
    "\n",
    "# Gộp tất cả các ảnh thành một array\n",
    "train_images_reshaped = np.concatenate(train_images_reshaped, axis=0)\n",
    "\n",
    "print(\"Reshaped train images shape:\", train_images_reshaped.shape)\n",
    "\n",
    "# Chuyển tất cả các ảnh từ validation_generator\n",
    "validation_images_reshaped = []\n",
    "for i in range(len(validation_generator)):\n",
    "    batch_images = validation_generator[i][0]  # Lấy batch ảnh\n",
    "    batch_images_reshaped = batch_images.reshape((-1, 150 * 150 * 3))  # Reshape từng ảnh trong batch\n",
    "    validation_images_reshaped.append(batch_images_reshaped)\n",
    "\n",
    "# Gộp tất cả các ảnh thành một array\n",
    "validation_images_reshaped = np.concatenate(validation_images_reshaped, axis=0)\n",
    "\n",
    "print(\"Reshaped validation images shape:\", validation_images_reshaped.shape)\n"
   ]
  },
  {
   "cell_type": "code",
   "execution_count": 50,
   "metadata": {},
   "outputs": [
    {
     "name": "stdout",
     "output_type": "stream",
     "text": [
      "Shape of train images after PCA: (2000, 225)\n",
      "Shape of validation images after PCA: (1000, 225)\n"
     ]
    }
   ],
   "source": [
    "# Khởi tạo PCA với số chiều mong muốn\n",
    "pca = PCA(n_components=225)\n",
    "\n",
    "# Fit PCA cho dữ liệu huấn luyện\n",
    "pca.fit(train_images_reshaped)\n",
    "\n",
    "# Áp dụng PCA cho dữ liệu huấn luyện và dữ liệu validation\n",
    "train_images_pca = pca.transform(train_images_reshaped)\n",
    "validation_images_pca = pca.transform(validation_images_reshaped)\n",
    "\n",
    "print(\"Shape of train images after PCA:\", train_images_pca.shape)\n",
    "print(\"Shape of validation images after PCA:\", validation_images_pca.shape)\n"
   ]
  },
  {
   "cell_type": "code",
   "execution_count": 51,
   "metadata": {},
   "outputs": [],
   "source": [
    "train_labels = train_generator.labels\n",
    "val_labels = validation_generator.labels"
   ]
  },
  {
   "cell_type": "code",
   "execution_count": 53,
   "metadata": {},
   "outputs": [
    {
     "name": "stdout",
     "output_type": "stream",
     "text": [
      "Epoch 1/10\n",
      "\u001b[1m50/50\u001b[0m \u001b[32m━━━━━━━━━━━━━━━━━━━━\u001b[0m\u001b[37m\u001b[0m \u001b[1m2s\u001b[0m 7ms/step - accuracy: 0.4969 - loss: 1.6418 - val_accuracy: 0.0725 - val_loss: 1.8923\n",
      "Epoch 2/10\n",
      "\u001b[1m50/50\u001b[0m \u001b[32m━━━━━━━━━━━━━━━━━━━━\u001b[0m\u001b[37m\u001b[0m \u001b[1m0s\u001b[0m 3ms/step - accuracy: 0.7245 - loss: 0.5844 - val_accuracy: 0.3225 - val_loss: 1.1473\n",
      "Epoch 3/10\n",
      "\u001b[1m50/50\u001b[0m \u001b[32m━━━━━━━━━━━━━━━━━━━━\u001b[0m\u001b[37m\u001b[0m \u001b[1m0s\u001b[0m 3ms/step - accuracy: 0.8417 - loss: 0.4207 - val_accuracy: 0.3450 - val_loss: 1.2352\n",
      "Epoch 4/10\n",
      "\u001b[1m50/50\u001b[0m \u001b[32m━━━━━━━━━━━━━━━━━━━━\u001b[0m\u001b[37m\u001b[0m \u001b[1m0s\u001b[0m 3ms/step - accuracy: 0.9109 - loss: 0.3044 - val_accuracy: 0.3625 - val_loss: 1.2951\n",
      "Epoch 5/10\n",
      "\u001b[1m50/50\u001b[0m \u001b[32m━━━━━━━━━━━━━━━━━━━━\u001b[0m\u001b[37m\u001b[0m \u001b[1m0s\u001b[0m 3ms/step - accuracy: 0.9580 - loss: 0.2182 - val_accuracy: 0.5175 - val_loss: 1.0348\n",
      "Epoch 6/10\n",
      "\u001b[1m50/50\u001b[0m \u001b[32m━━━━━━━━━━━━━━━━━━━━\u001b[0m\u001b[37m\u001b[0m \u001b[1m0s\u001b[0m 2ms/step - accuracy: 0.9665 - loss: 0.1628 - val_accuracy: 0.2550 - val_loss: 2.0962\n",
      "Epoch 7/10\n",
      "\u001b[1m50/50\u001b[0m \u001b[32m━━━━━━━━━━━━━━━━━━━━\u001b[0m\u001b[37m\u001b[0m \u001b[1m0s\u001b[0m 2ms/step - accuracy: 0.9929 - loss: 0.0952 - val_accuracy: 0.3800 - val_loss: 1.7313\n",
      "Epoch 8/10\n",
      "\u001b[1m50/50\u001b[0m \u001b[32m━━━━━━━━━━━━━━━━━━━━\u001b[0m\u001b[37m\u001b[0m \u001b[1m0s\u001b[0m 2ms/step - accuracy: 0.9988 - loss: 0.0573 - val_accuracy: 0.3750 - val_loss: 1.9796\n",
      "Epoch 9/10\n",
      "\u001b[1m50/50\u001b[0m \u001b[32m━━━━━━━━━━━━━━━━━━━━\u001b[0m\u001b[37m\u001b[0m \u001b[1m0s\u001b[0m 2ms/step - accuracy: 1.0000 - loss: 0.0354 - val_accuracy: 0.2650 - val_loss: 2.8406\n",
      "Epoch 10/10\n",
      "\u001b[1m50/50\u001b[0m \u001b[32m━━━━━━━━━━━━━━━━━━━━\u001b[0m\u001b[37m\u001b[0m \u001b[1m0s\u001b[0m 3ms/step - accuracy: 1.0000 - loss: 0.0253 - val_accuracy: 0.3275 - val_loss: 2.6489\n"
     ]
    },
    {
     "data": {
      "text/plain": [
       "<keras.src.callbacks.history.History at 0x17fac5ad390>"
      ]
     },
     "execution_count": 53,
     "metadata": {},
     "output_type": "execute_result"
    }
   ],
   "source": [
    "import tensorflow as tf\n",
    "from keras.models import Sequential\n",
    "from keras.layers import Dense, Activation, Flatten\n",
    "\n",
    "model = Sequential()\n",
    "\n",
    "model.add(Flatten(input_shape = (225,)))\n",
    "model.add(Dense(128,activation = 'relu'))\n",
    "model.add(Dense(64,activation = 'relu'))\n",
    "model.add(Dense(32,activation = 'relu'))\n",
    "model.add(Dense(10,activation = 'softmax')) \n",
    "\n",
    "model.compile(loss = 'sparse_categorical_crossentropy', \n",
    "              optimizer = 'Adam', \n",
    "              metrics = ['accuracy'])\n",
    "\n",
    "model.fit(train_images_pca,train_labels,epochs= 10 , validation_split = .2)"
   ]
  },
  {
   "cell_type": "code",
   "execution_count": 56,
   "metadata": {},
   "outputs": [
    {
     "name": "stdout",
     "output_type": "stream",
     "text": [
      "\u001b[1m32/32\u001b[0m \u001b[32m━━━━━━━━━━━━━━━━━━━━\u001b[0m\u001b[37m\u001b[0m \u001b[1m0s\u001b[0m 1ms/step \n"
     ]
    }
   ],
   "source": [
    "y_pred = model.predict(validation_images_pca)\n",
    "y_pred = y_pred.argmax(axis = 1)"
   ]
  },
  {
   "cell_type": "code",
   "execution_count": 57,
   "metadata": {},
   "outputs": [
    {
     "name": "stdout",
     "output_type": "stream",
     "text": [
      "Accuracy: 0.501\n",
      "Precision: 0.5012539184952978\n",
      "Recall: 0.501\n"
     ]
    }
   ],
   "source": [
    "accuracy = accuracy_score(val_labels, y_pred)\n",
    "print(\"Accuracy:\", accuracy)\n",
    "\n",
    "precision = precision_score(val_labels, y_pred, average='macro')\n",
    "print(\"Precision:\", precision)\n",
    "\n",
    "recall = recall_score(val_labels, y_pred, average='macro')\n",
    "print(\"Recall:\", recall)"
   ]
  }
 ],
 "metadata": {
  "kernelspec": {
   "display_name": "Python 3.11.4 ('base')",
   "language": "python",
   "name": "python3"
  },
  "language_info": {
   "codemirror_mode": {
    "name": "ipython",
    "version": 3
   },
   "file_extension": ".py",
   "mimetype": "text/x-python",
   "name": "python",
   "nbconvert_exporter": "python",
   "pygments_lexer": "ipython3",
   "version": "3.11.4"
  },
  "orig_nbformat": 4,
  "vscode": {
   "interpreter": {
    "hash": "2043299c89c8cd0b4d1a6f5cf4529bd58e6a4e0fe3181a25e0d328c821cdc5c5"
   }
  }
 },
 "nbformat": 4,
 "nbformat_minor": 2
}
