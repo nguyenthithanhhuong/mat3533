{
 "cells": [
  {
   "cell_type": "code",
   "execution_count": 6,
   "metadata": {},
   "outputs": [],
   "source": [
    "import numpy as np\n",
    "from sklearn.linear_model import LogisticRegression\n",
    "from sklearn.metrics import accuracy_score\n",
    "from tensorflow.keras.preprocessing.image import ImageDataGenerator"
   ]
  },
  {
   "cell_type": "markdown",
   "metadata": {},
   "source": [
    "Chuẩn bị dữ liệu"
   ]
  },
  {
   "cell_type": "code",
   "execution_count": 7,
   "metadata": {},
   "outputs": [
    {
     "name": "stdout",
     "output_type": "stream",
     "text": [
      "Found 2250 images belonging to 3 classes.\n",
      "Found 750 images belonging to 3 classes.\n"
     ]
    }
   ],
   "source": [
    "def train_test_animals():\n",
    "    from tensorflow.keras.preprocessing.image import ImageDataGenerator\n",
    "\n",
    "    # Số lượng ảnh mỗi lớp cho tập huấn luyện và tập kiểm tra\n",
    "    images_per_class_train = 750\n",
    "    images_per_class_test = 250\n",
    "\n",
    "    # Tạo ImageDataGenerator\n",
    "    train_datagen = ImageDataGenerator(rescale=1./255, validation_split=0.25)\n",
    "\n",
    "    # Tạo tập huấn luyện\n",
    "    train_generator = train_datagen.flow_from_directory(\n",
    "        'D:/Code/python/mat3533/practice08/data/CNN_MultiClass_data/animals',\n",
    "        target_size=(150, 150),\n",
    "        batch_size=images_per_class_train,  # Lấy hết ảnh trong mỗi lớp cho tập huấn luyện\n",
    "        class_mode='categorical',\n",
    "        subset='training',\n",
    "        shuffle=True  # Xáo trộn dữ liệu\n",
    "    )\n",
    "\n",
    "    # Tạo tập kiểm tra\n",
    "    test_generator = train_datagen.flow_from_directory(\n",
    "        'D:/Code/python/mat3533/practice08/data/CNN_MultiClass_data/validation',\n",
    "        target_size=(150, 150),\n",
    "        batch_size=images_per_class_test,  # Lấy hết ảnh trong mỗi lớp cho tập kiểm tra\n",
    "        class_mode='categorical',\n",
    "        subset='validation',\n",
    "        shuffle=True  # Xáo trộn dữ liệu\n",
    "    )\n",
    "\n",
    "    # Lấy ảnh và nhãn từ tập dữ liệu\n",
    "    train_images, labels_train = next(train_generator)\n",
    "    test_images, labels_test = next(test_generator)\n",
    "\n",
    "    return train_images, test_images, labels_train, labels_test\n",
    "\n",
    "X_train, X_test, y_train, y_test = train_test_animals()\n"
   ]
  },
  {
   "cell_type": "markdown",
   "metadata": {},
   "source": [
    "Đưa ảnh về dạng vector"
   ]
  },
  {
   "cell_type": "code",
   "execution_count": 8,
   "metadata": {},
   "outputs": [],
   "source": [
    "X_train = X_train.reshape(X_train.shape[0], -1)\n",
    "X_test = X_test.reshape(X_test.shape[0], -1)\n",
    "\n",
    "y_train = np.argmax(y_train, axis=1)\n",
    "y_test = np.argmax(y_test, axis=1)"
   ]
  },
  {
   "cell_type": "markdown",
   "metadata": {},
   "source": [
    "Chạy mô hình Logistic Regression và tính độ chính xác"
   ]
  },
  {
   "cell_type": "code",
   "execution_count": 9,
   "metadata": {},
   "outputs": [
    {
     "name": "stdout",
     "output_type": "stream",
     "text": [
      "Accuracy: 0.54\n"
     ]
    },
    {
     "name": "stderr",
     "output_type": "stream",
     "text": [
      "c:\\Users\\Admin\\anaconda3\\Lib\\site-packages\\sklearn\\linear_model\\_logistic.py:460: ConvergenceWarning: lbfgs failed to converge (status=1):\n",
      "STOP: TOTAL NO. of ITERATIONS REACHED LIMIT.\n",
      "\n",
      "Increase the number of iterations (max_iter) or scale the data as shown in:\n",
      "    https://scikit-learn.org/stable/modules/preprocessing.html\n",
      "Please also refer to the documentation for alternative solver options:\n",
      "    https://scikit-learn.org/stable/modules/linear_model.html#logistic-regression\n",
      "  n_iter_i = _check_optimize_result(\n"
     ]
    }
   ],
   "source": [
    "model = LogisticRegression()\n",
    "model.fit(X_train, y_train)\n",
    "\n",
    "y_pred = model.predict(X_test)\n",
    "\n",
    "# Evaluate accuracy\n",
    "accuracy = accuracy_score(y_test, y_pred)\n",
    "print(\"Accuracy:\", accuracy)"
   ]
  }
 ],
 "metadata": {
  "kernelspec": {
   "display_name": "Python 3.11.4 ('base')",
   "language": "python",
   "name": "python3"
  },
  "language_info": {
   "codemirror_mode": {
    "name": "ipython",
    "version": 3
   },
   "file_extension": ".py",
   "mimetype": "text/x-python",
   "name": "python",
   "nbconvert_exporter": "python",
   "pygments_lexer": "ipython3",
   "version": "3.11.4"
  },
  "orig_nbformat": 4,
  "vscode": {
   "interpreter": {
    "hash": "2043299c89c8cd0b4d1a6f5cf4529bd58e6a4e0fe3181a25e0d328c821cdc5c5"
   }
  }
 },
 "nbformat": 4,
 "nbformat_minor": 2
}
