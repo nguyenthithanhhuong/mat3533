{
 "cells": [
  {
   "cell_type": "code",
   "execution_count": 1,
   "metadata": {},
   "outputs": [],
   "source": [
    "import zipfile\n",
    "import os\n",
    "import numpy as np\n",
    "from keras.preprocessing.image import load_img, img_to_array\n",
    "from sklearn.linear_model import LogisticRegression\n",
    "from sklearn.metrics import accuracy_score, precision_score, recall_score\n"
   ]
  },
  {
   "cell_type": "code",
   "execution_count": 2,
   "metadata": {},
   "outputs": [],
   "source": [
    "# Unzip the archive\n",
    "local_zip = 'D:/Code/python/mat3533/practice08/data/cats_and_dogs_filtered.zip'\n",
    "zip_ref = zipfile.ZipFile(local_zip, 'r')\n",
    "zip_ref.extractall()\n",
    "zip_ref.close()"
   ]
  },
  {
   "cell_type": "code",
   "execution_count": 3,
   "metadata": {},
   "outputs": [
    {
     "name": "stdout",
     "output_type": "stream",
     "text": [
      "Contents of base directory:\n",
      "['train', 'validation', 'vectorize.py']\n",
      "\n",
      "Contents of train directory:\n",
      "['cats', 'dogs']\n",
      "\n",
      "Contents of validation directory:\n",
      "['cats', 'dogs']\n"
     ]
    }
   ],
   "source": [
    "base_dir = 'D:/Code/python/mat3533/practice08/exercise/ex01/cats_and_dogs_filtered'\n",
    "# Change the base_dir to where you put dataset\n",
    "print(\"Contents of base directory:\")\n",
    "print(os.listdir(base_dir))\n",
    "print(\"\\nContents of train directory:\")\n",
    "print(os.listdir(f'{base_dir}\\\\train'))\n",
    "print(\"\\nContents of validation directory:\")\n",
    "print(os.listdir(f'{base_dir}\\\\validation'))"
   ]
  },
  {
   "cell_type": "code",
   "execution_count": 4,
   "metadata": {},
   "outputs": [
    {
     "name": "stdout",
     "output_type": "stream",
     "text": [
      "\n",
      "Contents of train directory:\n",
      "['cats', 'dogs']\n",
      "\n",
      "Contents of validation directory:\n",
      "['cats', 'dogs']\n"
     ]
    }
   ],
   "source": [
    "train_dir = os.path.join(base_dir, 'train')\n",
    "validation_dir = os.path.join(base_dir, 'validation')\n",
    "# Directory with training cat/dog pictures\n",
    "train_cats_dir = os.path.join(train_dir, 'cats')\n",
    "train_dogs_dir = os.path.join(train_dir, 'dogs')\n",
    "# Directory with validation cat/dog pictures\n",
    "validation_cats_dir = os.path.join(validation_dir, 'cats')\n",
    "validation_dogs_dir = os.path.join(validation_dir, 'dogs')\n",
    "print(\"\\nContents of train directory:\")\n",
    "print(os.listdir(f'{base_dir}\\\\train'))\n",
    "print(\"\\nContents of validation directory:\")\n",
    "print(os.listdir(f'{base_dir}\\\\validation'))"
   ]
  },
  {
   "cell_type": "code",
   "execution_count": 5,
   "metadata": {},
   "outputs": [
    {
     "name": "stdout",
     "output_type": "stream",
     "text": [
      "['cat.0.jpg', 'cat.1.jpg', 'cat.10.jpg', 'cat.100.jpg', 'cat.101.jpg', 'cat.102.jpg', 'cat.103.jpg', 'cat.104.jpg', 'cat.105.jpg', 'cat.106.jpg']\n",
      "['dog.0.jpg', 'dog.1.jpg', 'dog.10.jpg', 'dog.100.jpg', 'dog.101.jpg', 'dog.102.jpg', 'dog.103.jpg', 'dog.104.jpg', 'dog.105.jpg', 'dog.106.jpg']\n",
      "total training cat images : 1000\n",
      "total training dog images : 1000\n",
      "total validation cat images : 500\n",
      "total validation dog images : 500\n"
     ]
    }
   ],
   "source": [
    "train_cat_fnames = os.listdir( train_cats_dir )\n",
    "train_dog_fnames = os.listdir( train_dogs_dir )\n",
    "print(train_cat_fnames[:10])\n",
    "print(train_dog_fnames[:10])\n",
    "print('total training cat images :', len(os.listdir( train_cats_dir ) ))\n",
    "print('total training dog images :', len(os.listdir( train_dogs_dir ) ))\n",
    "print('total validation cat images :', len(os.listdir( validation_cats_dir ) ))\n",
    "print('total validation dog images :', len(os.listdir( validation_dogs_dir ) ))"
   ]
  },
  {
   "cell_type": "markdown",
   "metadata": {},
   "source": [
    "Đưa ảnh về kích thước 150px x 150px"
   ]
  },
  {
   "cell_type": "code",
   "execution_count": 6,
   "metadata": {},
   "outputs": [],
   "source": [
    "def resize_images(directory):\n",
    "    for filename in os.listdir(directory):\n",
    "        path = os.path.join(directory, filename)\n",
    "        img = load_img(path, target_size=(150, 150))\n",
    "        img_array = img_to_array(img)\n",
    "        img_array /= 255.0  # Normalize pixel values\n",
    "        np.save(f\"{path[:-4]}.npy\", img_array)  # Save the image array as numpy array\n",
    "        os.remove(path)  # Remove the original image\n",
    "\n",
    "resize_images(train_cats_dir)\n",
    "resize_images(train_dogs_dir)\n",
    "resize_images(validation_cats_dir)\n",
    "resize_images(validation_dogs_dir)"
   ]
  },
  {
   "cell_type": "markdown",
   "metadata": {},
   "source": [
    "Gán nhãn 0 cho cat, 1 cho dog"
   ]
  },
  {
   "cell_type": "code",
   "execution_count": 7,
   "metadata": {},
   "outputs": [],
   "source": [
    "train_images = []\n",
    "train_labels = []\n",
    "validation_images = []\n",
    "validation_labels = []\n",
    "\n",
    "for filename in os.listdir(train_cats_dir):\n",
    "    train_images.append(np.load(os.path.join(train_cats_dir, filename)))\n",
    "    train_labels.append(0)  # 0 for cats\n",
    "\n",
    "for filename in os.listdir(train_dogs_dir):\n",
    "    train_images.append(np.load(os.path.join(train_dogs_dir, filename)))\n",
    "    train_labels.append(1)  # 1 for dogs\n",
    "\n",
    "for filename in os.listdir(validation_cats_dir):\n",
    "    validation_images.append(np.load(os.path.join(validation_cats_dir, filename)))\n",
    "    validation_labels.append(0)\n",
    "\n",
    "for filename in os.listdir(validation_dogs_dir):\n",
    "    validation_images.append(np.load(os.path.join(validation_dogs_dir, filename)))\n",
    "    validation_labels.append(1)"
   ]
  },
  {
   "cell_type": "markdown",
   "metadata": {},
   "source": [
    "Chuyển ảnh thành vector"
   ]
  },
  {
   "cell_type": "code",
   "execution_count": 8,
   "metadata": {},
   "outputs": [],
   "source": [
    "train_images = np.array(train_images)\n",
    "train_labels = np.array(train_labels)\n",
    "validation_images = np.array(validation_images)\n",
    "validation_labels = np.array(validation_labels)\n",
    "\n",
    "train_images_flatten = train_images.reshape(train_images.shape[0], -1)\n",
    "validation_images_flatten = validation_images.reshape(validation_images.shape[0], -1)"
   ]
  },
  {
   "cell_type": "markdown",
   "metadata": {},
   "source": [
    "Chạy mô hình Logistic Regression"
   ]
  },
  {
   "cell_type": "code",
   "execution_count": 9,
   "metadata": {},
   "outputs": [
    {
     "name": "stderr",
     "output_type": "stream",
     "text": [
      "c:\\Users\\Admin\\anaconda3\\Lib\\site-packages\\sklearn\\linear_model\\_logistic.py:460: ConvergenceWarning: lbfgs failed to converge (status=1):\n",
      "STOP: TOTAL NO. of ITERATIONS REACHED LIMIT.\n",
      "\n",
      "Increase the number of iterations (max_iter) or scale the data as shown in:\n",
      "    https://scikit-learn.org/stable/modules/preprocessing.html\n",
      "Please also refer to the documentation for alternative solver options:\n",
      "    https://scikit-learn.org/stable/modules/linear_model.html#logistic-regression\n",
      "  n_iter_i = _check_optimize_result(\n"
     ]
    },
    {
     "name": "stdout",
     "output_type": "stream",
     "text": [
      "Accuracy: 0.551\n",
      "Precision: 0.5578231292517006\n",
      "Recall: 0.492\n"
     ]
    }
   ],
   "source": [
    "model = LogisticRegression()\n",
    "model.fit(train_images_flatten, train_labels)\n",
    "\n",
    "validation_predictions = model.predict(validation_images_flatten)\n",
    "\n",
    "# Evaluate accuracy\n",
    "accuracy = accuracy_score(validation_labels, validation_predictions)\n",
    "precision = precision_score(validation_labels, validation_predictions)\n",
    "recall = recall_score(validation_labels, validation_predictions)\n",
    "print(\"Accuracy:\", accuracy)\n",
    "print(\"Precision:\", precision)\n",
    "print(\"Recall:\", recall)"
   ]
  },
  {
   "cell_type": "markdown",
   "metadata": {},
   "source": [
    "Chuẩn bị dữ liệu test mới\n"
   ]
  },
  {
   "cell_type": "code",
   "execution_count": 13,
   "metadata": {},
   "outputs": [
    {
     "data": {
      "text/plain": [
       "(20, 67500)"
      ]
     },
     "execution_count": 13,
     "metadata": {},
     "output_type": "execute_result"
    }
   ],
   "source": [
    "from PIL import Image\n",
    "\n",
    "# Đường dẫn tới thư mục chứa ảnh\n",
    "directory = 'D:/Code/python/mat3533/practice08/data/test_dog_cat'\n",
    "\n",
    "# Tạo một danh sách để lưu trữ các tên file ảnh\n",
    "image_files = []\n",
    "\n",
    "# Lặp qua các số từ 1 đến 20 để tìm tên ảnh\n",
    "for i in range(1, 21):\n",
    "    # Tạo tên file ảnh dựa trên số thứ tự\n",
    "    filename = f'pic{i}.jpg'\n",
    "    # Kiểm tra xem file có tồn tại trong thư mục không\n",
    "    if os.path.exists(os.path.join(directory, filename)):\n",
    "        # Nếu tồn tại, thêm vào danh sách\n",
    "        image_files.append(filename)\n",
    "\n",
    "# Khởi tạo danh sách để lưu trữ dữ liệu hình ảnh\n",
    "test_new_images = []\n",
    "\n",
    "# Lặp qua các tên file ảnh đã tìm được\n",
    "for filename in image_files:\n",
    "    # Đọc ảnh từ file\n",
    "    img = Image.open(os.path.join(directory, filename))\n",
    "    # Resize ảnh về kích thước cố định, ví dụ (100, 100)\n",
    "    img = img.resize((150, 150))\n",
    "    # Chuyển ảnh thành mảng numpy\n",
    "    img_array = np.array(img)\n",
    "    # Thêm mảng numpy này vào danh sách dữ liệu\n",
    "    test_new_images.append(img_array)\n",
    "\n",
    "# Chuyển danh sách dữ liệu thành mảng numpy\n",
    "test_new_images = np.array(test_new_images)\n",
    "\n",
    "# Giảm số chiều về 225 chiều\n",
    "test_new_images = test_new_images.reshape(20, -1)\n",
    "\n",
    "# print(test_new_images.shape)\n",
    "test_new_images.shape"
   ]
  },
  {
   "cell_type": "markdown",
   "metadata": {},
   "source": [
    "Chạy dự đoán dữ liệu test mới"
   ]
  },
  {
   "cell_type": "code",
   "execution_count": 14,
   "metadata": {},
   "outputs": [
    {
     "data": {
      "text/plain": [
       "array([0, 0, 0, 0, 0, 0, 0, 0, 0, 0, 1, 0, 1, 1, 0, 1, 1, 1, 0, 0])"
      ]
     },
     "execution_count": 14,
     "metadata": {},
     "output_type": "execute_result"
    }
   ],
   "source": [
    "y_pred = model.predict(test_new_images)\n",
    "y_pred"
   ]
  }
 ],
 "metadata": {
  "kernelspec": {
   "display_name": "Python 3.11.4 ('base')",
   "language": "python",
   "name": "python3"
  },
  "language_info": {
   "codemirror_mode": {
    "name": "ipython",
    "version": 3
   },
   "file_extension": ".py",
   "mimetype": "text/x-python",
   "name": "python",
   "nbconvert_exporter": "python",
   "pygments_lexer": "ipython3",
   "version": "3.11.4"
  },
  "orig_nbformat": 4,
  "vscode": {
   "interpreter": {
    "hash": "2043299c89c8cd0b4d1a6f5cf4529bd58e6a4e0fe3181a25e0d328c821cdc5c5"
   }
  }
 },
 "nbformat": 4,
 "nbformat_minor": 2
}
