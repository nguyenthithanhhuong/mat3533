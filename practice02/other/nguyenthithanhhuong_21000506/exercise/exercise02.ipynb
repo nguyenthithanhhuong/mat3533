{
 "cells": [
  {
   "cell_type": "markdown",
   "metadata": {},
   "source": [
    "Import các thư viện cần thiết"
   ]
  },
  {
   "cell_type": "code",
   "execution_count": 1,
   "metadata": {},
   "outputs": [],
   "source": [
    "import numpy as np\n",
    "import pandas as pd"
   ]
  },
  {
   "cell_type": "markdown",
   "metadata": {},
   "source": [
    "Hàm read_data(): Sử dụng để đọc file dữ liệu "
   ]
  },
  {
   "cell_type": "code",
   "execution_count": 2,
   "metadata": {},
   "outputs": [],
   "source": [
    "def read_data(path: str):\n",
    "    with open(path, 'r') as f:\n",
    "        lines = f.readlines()\n",
    "        lines = [x.replace(\"\\n\", \"\") for x in lines if not x.startswith(\"I\") and not x == \"\\n\" ]\n",
    "        data = [x.split(\" \") for x in lines]\n",
    "        data = np.array(data).astype(float)\n",
    "        data = pd.DataFrame(data)\n",
    "    return data"
   ]
  },
  {
   "cell_type": "markdown",
   "metadata": {},
   "source": [
    "Sử dụng hàm read_data() để đọc file dữ liệu \"vidu3_lin_reg.txt\""
   ]
  },
  {
   "cell_type": "code",
   "execution_count": 3,
   "metadata": {},
   "outputs": [
    {
     "name": "stdout",
     "output_type": "stream",
     "text": [
      "        0     1     2      3     4     5     6\n",
      "0     1.0  56.0  21.0  160.0  14.0  6.00  1.95\n",
      "1     2.0  76.0  18.0  150.0  12.0  4.97  1.33\n",
      "2     3.0  63.0  16.0  160.0   4.4  6.39  0.83\n",
      "3     4.0  78.0  20.0  100.0   4.0  7.00  2.00\n",
      "4     5.0  87.0  20.0  110.0   4.6  4.10  1.30\n",
      "..    ...   ...   ...    ...   ...   ...   ...\n",
      "95   96.0  55.0  24.0  160.0   5.0  7.20  0.90\n",
      "96   97.0  76.0  15.0  140.0   3.1  5.24  1.16\n",
      "97   98.0  70.0  25.0  180.0   4.0  4.40  1.00\n",
      "98   99.0  85.0  21.0  160.0   5.2  5.20  0.97\n",
      "99  100.0  87.0  22.0  130.0   9.0  5.20  2.30\n",
      "\n",
      "[100 rows x 7 columns]\n"
     ]
    }
   ],
   "source": [
    "data = read_data(\"D:/Code/python/mat3533/practice02/data/vidu3_lin_reg.txt\")\n",
    "print(data)"
   ]
  },
  {
   "cell_type": "markdown",
   "metadata": {},
   "source": [
    "Tạo biến quan sát và các nhãn tương ứng"
   ]
  },
  {
   "cell_type": "code",
   "execution_count": 4,
   "metadata": {},
   "outputs": [],
   "source": [
    "x = data.iloc[:, 1:6]\n",
    "y = data[6]\n",
    "x = np.array(x)\n",
    "y = np.array([y]).T"
   ]
  },
  {
   "cell_type": "markdown",
   "metadata": {},
   "source": [
    "Xác định các hệ số với bộ dữ liệu đã cho"
   ]
  },
  {
   "cell_type": "code",
   "execution_count": 5,
   "metadata": {},
   "outputs": [
    {
     "name": "stdout",
     "output_type": "stream",
     "text": [
      "w =  [[-0.10802908]\n",
      " [ 0.00994694]\n",
      " [-0.00020655]\n",
      " [ 0.00218137]\n",
      " [ 0.0076701 ]\n",
      " [ 0.03847025]]\n"
     ]
    }
   ],
   "source": [
    "one = np.array([np.ones(len(x))]).T\n",
    "Xbar = np.concatenate((one, x), axis=1)\n",
    "A = np.dot(Xbar.T, Xbar)\n",
    "b = np.dot(Xbar.T, y)\n",
    "w = np.dot(np.linalg.pinv(A), b)\n",
    "print(\"w = \", w)"
   ]
  },
  {
   "cell_type": "markdown",
   "metadata": {},
   "source": [
    "Tạo dữ liệu training và dữ liệu test"
   ]
  },
  {
   "cell_type": "code",
   "execution_count": 6,
   "metadata": {},
   "outputs": [],
   "source": [
    "x_train = x[:80]\n",
    "y_train = y[:80]\n",
    "x_test = x[80:]\n",
    "y_test = y[80:]"
   ]
  },
  {
   "cell_type": "markdown",
   "metadata": {},
   "source": [
    "Tính lại các hệ số của mô hình"
   ]
  },
  {
   "cell_type": "code",
   "execution_count": 8,
   "metadata": {},
   "outputs": [
    {
     "name": "stdout",
     "output_type": "stream",
     "text": [
      "w =  [[ 0.04306436]\n",
      " [ 0.0089892 ]\n",
      " [-0.00047742]\n",
      " [ 0.00260218]\n",
      " [ 0.00808634]\n",
      " [ 0.00708535]]\n"
     ]
    }
   ],
   "source": [
    "one = np.array([np.ones(len(x_train))]).T\n",
    "Xbar = np.concatenate((one, x_train), axis=1)\n",
    "A = np.dot(Xbar.T, Xbar)\n",
    "b = np.dot(Xbar.T, y_train)\n",
    "w = np.dot(np.linalg.pinv(A), b)\n",
    "print(\"w = \", w)"
   ]
  },
  {
   "cell_type": "markdown",
   "metadata": {},
   "source": [
    "Chạy thử bộ dữ liệu test "
   ]
  },
  {
   "cell_type": "code",
   "execution_count": 9,
   "metadata": {},
   "outputs": [
    {
     "name": "stdout",
     "output_type": "stream",
     "text": [
      "[[0.91012272]\n",
      " [0.78452963]\n",
      " [1.22339369]\n",
      " [0.96085817]\n",
      " [0.96836123]\n",
      " [1.05009561]\n",
      " [1.19694736]\n",
      " [1.0521678 ]\n",
      " [0.9936207 ]\n",
      " [0.68503543]\n",
      " [0.78429172]\n",
      " [0.77109845]\n",
      " [1.19748204]\n",
      " [1.06844174]\n",
      " [0.99721921]\n",
      " [1.03380704]\n",
      " [1.14558205]\n",
      " [1.19228584]\n",
      " [1.29236178]\n",
      " [1.26252546]]\n"
     ]
    }
   ],
   "source": [
    "one = np.array([np.ones(len(x_test))]).T\n",
    "Xbar = np.concatenate((one, x_test), axis=1)\n",
    "y_predict = np.dot(Xbar, w)\n",
    "print(y_predict)"
   ]
  },
  {
   "cell_type": "markdown",
   "metadata": {},
   "source": [
    "Tính đại lượng kỳ vọng"
   ]
  },
  {
   "cell_type": "code",
   "execution_count": 11,
   "metadata": {},
   "outputs": [
    {
     "name": "stdout",
     "output_type": "stream",
     "text": [
      "[0.07998862]\n"
     ]
    }
   ],
   "source": [
    "mean = sum(y_test - y_predict) / len(y_test)\n",
    "print(mean)"
   ]
  },
  {
   "cell_type": "markdown",
   "metadata": {},
   "source": [
    "Tính đại lượng phương sai"
   ]
  },
  {
   "cell_type": "code",
   "execution_count": 12,
   "metadata": {},
   "outputs": [
    {
     "name": "stdout",
     "output_type": "stream",
     "text": [
      "[26.9469683]\n"
     ]
    }
   ],
   "source": [
    "variance = sum((y_test - mean)**2)\n",
    "print(variance)   "
   ]
  }
 ],
 "metadata": {
  "kernelspec": {
   "display_name": "Python 3.11.4 ('base')",
   "language": "python",
   "name": "python3"
  },
  "language_info": {
   "codemirror_mode": {
    "name": "ipython",
    "version": 3
   },
   "file_extension": ".py",
   "mimetype": "text/x-python",
   "name": "python",
   "nbconvert_exporter": "python",
   "pygments_lexer": "ipython3",
   "version": "3.11.4"
  },
  "orig_nbformat": 4,
  "vscode": {
   "interpreter": {
    "hash": "2043299c89c8cd0b4d1a6f5cf4529bd58e6a4e0fe3181a25e0d328c821cdc5c5"
   }
  }
 },
 "nbformat": 4,
 "nbformat_minor": 2
}
