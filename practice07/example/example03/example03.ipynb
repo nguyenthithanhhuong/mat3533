{
 "cells": [
  {
   "cell_type": "markdown",
   "metadata": {},
   "source": [
    "Khai báo các thư viện cần thiết"
   ]
  },
  {
   "cell_type": "code",
   "execution_count": 3,
   "metadata": {},
   "outputs": [],
   "source": [
    "import numpy as np\n",
    "import cv2\n",
    "from sklearn.metrics import accuracy_score\n",
    "from sklearn.decomposition import PCA\n",
    "from sklearn.model_selection import train_test_split\n",
    "from skimage.transform import resize"
   ]
  },
  {
   "cell_type": "markdown",
   "metadata": {},
   "source": [
    "Đọc dữ liệu"
   ]
  },
  {
   "cell_type": "code",
   "execution_count": 4,
   "metadata": {},
   "outputs": [
    {
     "name": "stdout",
     "output_type": "stream",
     "text": [
      "165 77760 243 320\n"
     ]
    }
   ],
   "source": [
    "path = 'D:/Code/python/mat3533/practice07/data/face_data/'\n",
    "ids = range(1, 16) # 15 people\n",
    "states = ['centerlight', 'glasses', 'happy', 'leftlight',\n",
    "'noglasses', 'normal', 'rightlight','sad',\n",
    "'sleepy', 'surprised', 'wink' ]\n",
    "prefix = 'subject'\n",
    "surfix = '.png' #file extension is png\n",
    "# open one picture to get the image's size\n",
    "fn = prefix + '01.' + states[0] + surfix\n",
    "im = cv2.imread(path + fn, 0)\n",
    "h = im.shape[0] # hight\n",
    "w = im.shape[1] # width\n",
    "D = h * w\n",
    "N = len(states)*15\n",
    "print(N, D, h, w)\n",
    "X = np.zeros((D, N))\n",
    "# collect all data\n",
    "count = 0\n",
    "# there are 15 people\n",
    "for person_id in range(1, 16):\n",
    "    for state in states:\n",
    "        # get name of each image file\n",
    "        fn = path + prefix + str(person_id).zfill(2) + '.' + state + surfix\n",
    "        # open the file and read as grey image\n",
    "        tmp = cv2.imread(fn, cv2.IMREAD_GRAYSCALE)\n",
    "        # then add image to dataset X\n",
    "        X[:, count] = tmp.reshape(D)\n",
    "        count += 1\n",
    "y = np.repeat(range(1, 16), len(states))"
   ]
  },
  {
   "cell_type": "code",
   "execution_count": 5,
   "metadata": {},
   "outputs": [],
   "source": [
    "pca = PCA(n_components=100)\n",
    "X_pca = pca.fit_transform(X.T)"
   ]
  },
  {
   "cell_type": "markdown",
   "metadata": {},
   "source": [
    "Phân chia dữ  liệu theo tỉ lệ train:test=0.7:0.3"
   ]
  },
  {
   "cell_type": "code",
   "execution_count": 6,
   "metadata": {},
   "outputs": [],
   "source": [
    "X_train, X_test, y_train, y_test = train_test_split(X_pca, y, test_size=0.3, random_state=42)"
   ]
  },
  {
   "cell_type": "markdown",
   "metadata": {},
   "source": [
    "Chạy mô hình hồi quy Logistic nhiều chiều với dữ liệu đã giảm số chiều và in ra độ chính xác"
   ]
  },
  {
   "cell_type": "code",
   "execution_count": 7,
   "metadata": {},
   "outputs": [
    {
     "name": "stdout",
     "output_type": "stream",
     "text": [
      "Prediction: \n",
      "[13 11 12  6  9  3 15  5 10 14  2  8  2  7  3  3 13 10 14  2  7  2  2  1\n",
      "  3 15  9  6 13 15 13  8  6  8  1 15  5  4  7 15  3 13 11  9 13  4  8  3\n",
      " 12  7]\n",
      "Accuracy:  0.98\n"
     ]
    }
   ],
   "source": [
    "from sklearn.linear_model import LogisticRegression\n",
    "\n",
    "model_log = LogisticRegression()\n",
    "model_log.fit(X_train, y_train)\n",
    "\n",
    "y_pred_log = model_log.predict(X_test)\n",
    "print(f\"Prediction: \\n{y_pred_log}\")\n",
    "\n",
    "accuracy_log = accuracy_score(y_test, y_pred_log)\n",
    "print(\"Accuracy: \", accuracy_log)"
   ]
  },
  {
   "cell_type": "markdown",
   "metadata": {},
   "source": [
    "Chạy mô hình Naive Bayes với dữ liệu đã giảm số chiều và in ra độ chính xác"
   ]
  },
  {
   "cell_type": "code",
   "execution_count": 8,
   "metadata": {},
   "outputs": [
    {
     "name": "stdout",
     "output_type": "stream",
     "text": [
      "Prediction: \n",
      "[ 8 11 12 12  9 15 15  5 10 14  2  8  2  8  3  3 15 11 14  2 15  2  2  1\n",
      "  8 15  9  6 13 15 13 12  6  8  1  9  5  4 12 15  3 15 12  9 13  8 12  3\n",
      " 12  8]\n",
      "Accuracy:  0.7\n"
     ]
    }
   ],
   "source": [
    "from sklearn.naive_bayes import GaussianNB\n",
    "\n",
    "model_nb = GaussianNB()\n",
    "model_nb.fit(X_train, y_train)\n",
    "\n",
    "y_pred_nb = model_nb.predict(X_test)\n",
    "print(f\"Prediction: \\n{y_pred_nb}\")\n",
    "\n",
    "accuracy_nb = accuracy_score(y_test, y_pred_nb)\n",
    "print(\"Accuracy: \", accuracy_nb)"
   ]
  },
  {
   "cell_type": "markdown",
   "metadata": {},
   "source": [
    "Chạy mô hình ANN với dữ liệu đã giảm số chiều và in ra độ chính xác"
   ]
  },
  {
   "cell_type": "code",
   "execution_count": 9,
   "metadata": {},
   "outputs": [
    {
     "name": "stdout",
     "output_type": "stream",
     "text": [
      "Prediction: \n",
      "[12  4 12 14 15 10 15  5 10 14  4 15  4  9  3  3  6 10 14  4 15  2 11 10\n",
      "  9 10  9  6 13 15  6 15  6  9  1  7  5  4 15 15  3 13 12  9 13  8 15 10\n",
      " 12  6]\n",
      "Accuracy:  0.48\n"
     ]
    }
   ],
   "source": [
    "from sklearn.neural_network import MLPClassifier\n",
    "\n",
    "model_mlp = MLPClassifier()\n",
    "model_mlp.fit(X_train, y_train)\n",
    "\n",
    "y_pred_mlp = model_mlp.predict(X_test)\n",
    "print(f\"Prediction: \\n{y_pred_mlp}\")\n",
    "\n",
    "accuracy_mlp = accuracy_score(y_test, y_pred_mlp)\n",
    "print(\"Accuracy: \", accuracy_mlp)"
   ]
  },
  {
   "cell_type": "markdown",
   "metadata": {},
   "source": [
    "Đọc dữ liệu Test và đưa về cùng kích thước như trong ảnh dữ liệu (H = 320; W = 243)"
   ]
  },
  {
   "cell_type": "code",
   "execution_count": 10,
   "metadata": {},
   "outputs": [
    {
     "name": "stdout",
     "output_type": "stream",
     "text": [
      "5 77760 320 243\n"
     ]
    }
   ],
   "source": [
    "path = 'D:/Code/python/mat3533/practice07/data/face_test_data/'\n",
    "states = ['rightlight','sad', 'sleepy', 'surprised', 'wink']\n",
    "prefix = 'picture'\n",
    "surfix = '.png' #file extension is png\n",
    "# open one picture to get the image's size\n",
    "fn = prefix + surfix\n",
    "im = cv2.imread(path + fn, 0)\n",
    "N = 5\n",
    "h = 320 # hight\n",
    "w = 243 # width\n",
    "D = h * w\n",
    "print(N, D, h, w)\n",
    "X_test_new = np.zeros((D, N))\n",
    "for i in range(5):\n",
    "    X_test_new[:, i] = resize(X_test_new[:, i].reshape((h, w)), (320, 243)).reshape(-1)\n",
    "# collect all data\n",
    "count = 0\n",
    "for state in states:\n",
    "    # get name of each image file\n",
    "    fn = path + prefix + '_' + state + surfix\n",
    "    # open the file and read as grey image\n",
    "    tmp = cv2.imread(fn, cv2.IMREAD_GRAYSCALE)\n",
    "    # then add image to dataset X\n",
    "    X_test_new[:, count] = tmp.reshape(D)\n",
    "    count += 1"
   ]
  },
  {
   "cell_type": "code",
   "execution_count": 11,
   "metadata": {},
   "outputs": [
    {
     "name": "stdout",
     "output_type": "stream",
     "text": [
      "Prediction: \n",
      "[15 15 15 15 15]\n"
     ]
    },
    {
     "name": "stderr",
     "output_type": "stream",
     "text": [
      "c:\\Users\\Admin\\anaconda3\\Lib\\site-packages\\sklearn\\linear_model\\_logistic.py:460: ConvergenceWarning: lbfgs failed to converge (status=1):\n",
      "STOP: TOTAL NO. of ITERATIONS REACHED LIMIT.\n",
      "\n",
      "Increase the number of iterations (max_iter) or scale the data as shown in:\n",
      "    https://scikit-learn.org/stable/modules/preprocessing.html\n",
      "Please also refer to the documentation for alternative solver options:\n",
      "    https://scikit-learn.org/stable/modules/linear_model.html#logistic-regression\n",
      "  n_iter_i = _check_optimize_result(\n"
     ]
    }
   ],
   "source": [
    "from sklearn.linear_model import LogisticRegression\n",
    "\n",
    "model_log = LogisticRegression()\n",
    "model_log.fit(X.T, y)\n",
    "\n",
    "y_pred_log = model_log.predict(X_test_new.T)\n",
    "print(f\"Prediction: \\n{y_pred_log}\")"
   ]
  },
  {
   "cell_type": "markdown",
   "metadata": {},
   "source": [
    "Dự đoán dữ liệu Test với mô hình hồi quy naive bayes"
   ]
  },
  {
   "cell_type": "code",
   "execution_count": 12,
   "metadata": {},
   "outputs": [
    {
     "name": "stdout",
     "output_type": "stream",
     "text": [
      "Prediction: \n",
      "[15 15 15 15 15]\n"
     ]
    }
   ],
   "source": [
    "from sklearn.naive_bayes import GaussianNB\n",
    "\n",
    "model_nb = GaussianNB()\n",
    "model_nb.fit(X.T, y)\n",
    "\n",
    "y_pred_nb = model_nb.predict(X_test_new.T)\n",
    "print(f\"Prediction: \\n{y_pred_nb}\")"
   ]
  },
  {
   "cell_type": "markdown",
   "metadata": {},
   "source": [
    "Dự đoán dữ liệu Test với mô hình ANN\n"
   ]
  },
  {
   "cell_type": "code",
   "execution_count": 13,
   "metadata": {},
   "outputs": [
    {
     "name": "stdout",
     "output_type": "stream",
     "text": [
      "Prediction: \n",
      "[10 10 10 10 10]\n"
     ]
    }
   ],
   "source": [
    "from sklearn.neural_network import MLPClassifier\n",
    "\n",
    "model_mlp = MLPClassifier()\n",
    "model_mlp.fit(X.T, y)\n",
    "\n",
    "y_pred_mlp = model_mlp.predict(X_test_new.T)\n",
    "print(f\"Prediction: \\n{y_pred_mlp}\")"
   ]
  }
 ],
 "metadata": {
  "kernelspec": {
   "display_name": "Python 3.11.4 ('base')",
   "language": "python",
   "name": "python3"
  },
  "language_info": {
   "codemirror_mode": {
    "name": "ipython",
    "version": 3
   },
   "file_extension": ".py",
   "mimetype": "text/x-python",
   "name": "python",
   "nbconvert_exporter": "python",
   "pygments_lexer": "ipython3",
   "version": "3.11.4"
  },
  "orig_nbformat": 4,
  "vscode": {
   "interpreter": {
    "hash": "2043299c89c8cd0b4d1a6f5cf4529bd58e6a4e0fe3181a25e0d328c821cdc5c5"
   }
  }
 },
 "nbformat": 4,
 "nbformat_minor": 2
}
